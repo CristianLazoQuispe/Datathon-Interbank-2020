{
 "cells": [
  {
   "cell_type": "markdown",
   "metadata": {},
   "source": [
    "# import libraries"
   ]
  },
  {
   "cell_type": "code",
   "execution_count": 6,
   "metadata": {},
   "outputs": [],
   "source": [
    "import pandas as pd\n",
    "import seaborn as sns\n",
    "import matplotlib.pyplot as plt\n",
    "from utils import mygraph,analyze\n",
    "import numpy as np"
   ]
  },
  {
   "cell_type": "markdown",
   "metadata": {},
   "source": [
    "# Load datasets"
   ]
  },
  {
   "cell_type": "code",
   "execution_count": 5,
   "metadata": {},
   "outputs": [
    {
     "name": "stdout",
     "output_type": "stream",
     "text": [
      "Memory usage of dataframe is 5.47 MB\n",
      "Memory usage after optimization is: 1.71 MB\n",
      "Decreased by 68.7%\n",
      "rows in table : 358487\n",
      "key values    : 358487\n"
     ]
    },
    {
     "data": {
      "text/html": [
       "<div>\n",
       "<style scoped>\n",
       "    .dataframe tbody tr th:only-of-type {\n",
       "        vertical-align: middle;\n",
       "    }\n",
       "\n",
       "    .dataframe tbody tr th {\n",
       "        vertical-align: top;\n",
       "    }\n",
       "\n",
       "    .dataframe thead th {\n",
       "        text-align: right;\n",
       "    }\n",
       "</style>\n",
       "<table border=\"1\" class=\"dataframe\">\n",
       "  <thead>\n",
       "    <tr style=\"text-align: right;\">\n",
       "      <th></th>\n",
       "      <th>key_value</th>\n",
       "      <th>target</th>\n",
       "    </tr>\n",
       "  </thead>\n",
       "  <tbody>\n",
       "    <tr>\n",
       "      <th>0</th>\n",
       "      <td>0</td>\n",
       "      <td>0</td>\n",
       "    </tr>\n",
       "    <tr>\n",
       "      <th>1</th>\n",
       "      <td>1</td>\n",
       "      <td>0</td>\n",
       "    </tr>\n",
       "  </tbody>\n",
       "</table>\n",
       "</div>"
      ],
      "text/plain": [
       "   key_value  target\n",
       "0          0       0\n",
       "1          1       0"
      ]
     },
     "execution_count": 5,
     "metadata": {},
     "output_type": "execute_result"
    }
   ],
   "source": [
    "y_train = pd.read_csv('../resources/data/y_train.csv')\n",
    "y_train = analyze.reduce_mem_usage(y_train)\n",
    "\n",
    "# Check uniques keys in table\n",
    "print(\"rows in table :\",y_train.shape[0])\n",
    "print(\"key values    :\",y_train.key_value.nunique())\n",
    "y_train.head(2)"
   ]
  },
  {
   "cell_type": "code",
   "execution_count": 10,
   "metadata": {},
   "outputs": [
    {
     "name": "stdout",
     "output_type": "stream",
     "text": [
      "Memory usage of dataframe is 6.05 MB\n",
      "Memory usage after optimization is: 1.89 MB\n",
      "Decreased by 68.7%\n",
      "rows in table : 396666\n",
      "key values    : 396666\n"
     ]
    },
    {
     "data": {
      "text/html": [
       "<div>\n",
       "<style scoped>\n",
       "    .dataframe tbody tr th:only-of-type {\n",
       "        vertical-align: middle;\n",
       "    }\n",
       "\n",
       "    .dataframe tbody tr th {\n",
       "        vertical-align: top;\n",
       "    }\n",
       "\n",
       "    .dataframe thead th {\n",
       "        text-align: right;\n",
       "    }\n",
       "</style>\n",
       "<table border=\"1\" class=\"dataframe\">\n",
       "  <thead>\n",
       "    <tr style=\"text-align: right;\">\n",
       "      <th></th>\n",
       "      <th>key_value</th>\n",
       "      <th>target</th>\n",
       "    </tr>\n",
       "  </thead>\n",
       "  <tbody>\n",
       "    <tr>\n",
       "      <th>0</th>\n",
       "      <td>0</td>\n",
       "      <td>0</td>\n",
       "    </tr>\n",
       "    <tr>\n",
       "      <th>1</th>\n",
       "      <td>1</td>\n",
       "      <td>0</td>\n",
       "    </tr>\n",
       "  </tbody>\n",
       "</table>\n",
       "</div>"
      ],
      "text/plain": [
       "   key_value  target\n",
       "0          0       0\n",
       "1          1       0"
      ]
     },
     "execution_count": 10,
     "metadata": {},
     "output_type": "execute_result"
    }
   ],
   "source": [
    "sample_submission = pd.read_csv('../resources/data/sample_submission.csv')\n",
    "sample_submission = analyze.reduce_mem_usage(sample_submission)\n",
    "# Check uniques keys in table\n",
    "print(\"rows in table :\",sample_submission.shape[0])\n",
    "print(\"key values    :\",sample_submission.key_value.nunique())\n",
    "y_train.head(2)"
   ]
  },
  {
   "cell_type": "code",
   "execution_count": 7,
   "metadata": {},
   "outputs": [
    {
     "name": "stdout",
     "output_type": "stream",
     "text": [
      "Memory usage of dataframe is 41.02 MB\n",
      "Memory usage after optimization is: 8.20 MB\n",
      "Decreased by 80.0%\n"
     ]
    },
    {
     "data": {
      "text/html": [
       "<div>\n",
       "<style scoped>\n",
       "    .dataframe tbody tr th:only-of-type {\n",
       "        vertical-align: middle;\n",
       "    }\n",
       "\n",
       "    .dataframe tbody tr th {\n",
       "        vertical-align: top;\n",
       "    }\n",
       "\n",
       "    .dataframe thead th {\n",
       "        text-align: right;\n",
       "    }\n",
       "</style>\n",
       "<table border=\"1\" class=\"dataframe\">\n",
       "  <thead>\n",
       "    <tr style=\"text-align: right;\">\n",
       "      <th></th>\n",
       "      <th>key_value</th>\n",
       "      <th>edad</th>\n",
       "      <th>sexo</th>\n",
       "      <th>est_cvl</th>\n",
       "      <th>sit_lab</th>\n",
       "      <th>cod_ocu</th>\n",
       "      <th>ctd_hijos</th>\n",
       "      <th>flg_sin_email</th>\n",
       "      <th>ctd_veh</th>\n",
       "      <th>cod_ubi</th>\n",
       "      <th>lgr_vot</th>\n",
       "      <th>prv</th>\n",
       "      <th>dto</th>\n",
       "      <th>rgn</th>\n",
       "      <th>tip_lvledu</th>\n",
       "    </tr>\n",
       "  </thead>\n",
       "  <tbody>\n",
       "    <tr>\n",
       "      <th>0</th>\n",
       "      <td>0</td>\n",
       "      <td>-0.983887</td>\n",
       "      <td>1</td>\n",
       "      <td>4</td>\n",
       "      <td>2</td>\n",
       "      <td>22</td>\n",
       "      <td>0.0</td>\n",
       "      <td>1</td>\n",
       "      <td>0.0</td>\n",
       "      <td>-0.070190</td>\n",
       "      <td>17</td>\n",
       "      <td>47</td>\n",
       "      <td>687</td>\n",
       "      <td>4</td>\n",
       "      <td>0</td>\n",
       "    </tr>\n",
       "    <tr>\n",
       "      <th>1</th>\n",
       "      <td>1</td>\n",
       "      <td>0.000953</td>\n",
       "      <td>1</td>\n",
       "      <td>4</td>\n",
       "      <td>1</td>\n",
       "      <td>22</td>\n",
       "      <td>0.0</td>\n",
       "      <td>1</td>\n",
       "      <td>1.0</td>\n",
       "      <td>-0.738770</td>\n",
       "      <td>10</td>\n",
       "      <td>186</td>\n",
       "      <td>849</td>\n",
       "      <td>6</td>\n",
       "      <td>0</td>\n",
       "    </tr>\n",
       "    <tr>\n",
       "      <th>2</th>\n",
       "      <td>2</td>\n",
       "      <td>0.531250</td>\n",
       "      <td>0</td>\n",
       "      <td>4</td>\n",
       "      <td>1</td>\n",
       "      <td>22</td>\n",
       "      <td>0.0</td>\n",
       "      <td>1</td>\n",
       "      <td>0.0</td>\n",
       "      <td>-0.297363</td>\n",
       "      <td>15</td>\n",
       "      <td>84</td>\n",
       "      <td>1405</td>\n",
       "      <td>1</td>\n",
       "      <td>7</td>\n",
       "    </tr>\n",
       "  </tbody>\n",
       "</table>\n",
       "</div>"
      ],
      "text/plain": [
       "   key_value      edad  sexo  est_cvl  sit_lab  cod_ocu  ctd_hijos  \\\n",
       "0          0 -0.983887     1        4        2       22        0.0   \n",
       "1          1  0.000953     1        4        1       22        0.0   \n",
       "2          2  0.531250     0        4        1       22        0.0   \n",
       "\n",
       "   flg_sin_email  ctd_veh   cod_ubi  lgr_vot  prv   dto  rgn  tip_lvledu  \n",
       "0              1      0.0 -0.070190       17   47   687    4           0  \n",
       "1              1      1.0 -0.738770       10  186   849    6           0  \n",
       "2              1      0.0 -0.297363       15   84  1405    1           7  "
      ]
     },
     "execution_count": 7,
     "metadata": {},
     "output_type": "execute_result"
    }
   ],
   "source": [
    "se_train = pd.read_csv(\"../resources/data/se_train.csv\")\n",
    "se_train = analyze.reduce_mem_usage(se_train)\n",
    "se_train.head(3)"
   ]
  },
  {
   "cell_type": "code",
   "execution_count": 8,
   "metadata": {},
   "outputs": [
    {
     "name": "stdout",
     "output_type": "stream",
     "text": [
      "Memory usage of dataframe is 45.39 MB\n",
      "Memory usage after optimization is: 9.08 MB\n",
      "Decreased by 80.0%\n"
     ]
    },
    {
     "data": {
      "text/html": [
       "<div>\n",
       "<style scoped>\n",
       "    .dataframe tbody tr th:only-of-type {\n",
       "        vertical-align: middle;\n",
       "    }\n",
       "\n",
       "    .dataframe tbody tr th {\n",
       "        vertical-align: top;\n",
       "    }\n",
       "\n",
       "    .dataframe thead th {\n",
       "        text-align: right;\n",
       "    }\n",
       "</style>\n",
       "<table border=\"1\" class=\"dataframe\">\n",
       "  <thead>\n",
       "    <tr style=\"text-align: right;\">\n",
       "      <th></th>\n",
       "      <th>key_value</th>\n",
       "      <th>edad</th>\n",
       "      <th>sexo</th>\n",
       "      <th>est_cvl</th>\n",
       "      <th>sit_lab</th>\n",
       "      <th>cod_ocu</th>\n",
       "      <th>ctd_hijos</th>\n",
       "      <th>flg_sin_email</th>\n",
       "      <th>ctd_veh</th>\n",
       "      <th>cod_ubi</th>\n",
       "      <th>lgr_vot</th>\n",
       "      <th>prv</th>\n",
       "      <th>dto</th>\n",
       "      <th>rgn</th>\n",
       "      <th>tip_lvledu</th>\n",
       "    </tr>\n",
       "  </thead>\n",
       "  <tbody>\n",
       "    <tr>\n",
       "      <th>0</th>\n",
       "      <td>0</td>\n",
       "      <td>1.136719</td>\n",
       "      <td>0</td>\n",
       "      <td>4</td>\n",
       "      <td>2</td>\n",
       "      <td>29</td>\n",
       "      <td>0.0</td>\n",
       "      <td>0</td>\n",
       "      <td>0.0</td>\n",
       "      <td>0.043762</td>\n",
       "      <td>18</td>\n",
       "      <td>111</td>\n",
       "      <td>772</td>\n",
       "      <td>3</td>\n",
       "      <td>0</td>\n",
       "    </tr>\n",
       "    <tr>\n",
       "      <th>1</th>\n",
       "      <td>1</td>\n",
       "      <td>-1.513672</td>\n",
       "      <td>0</td>\n",
       "      <td>4</td>\n",
       "      <td>1</td>\n",
       "      <td>22</td>\n",
       "      <td>0.0</td>\n",
       "      <td>1</td>\n",
       "      <td>0.0</td>\n",
       "      <td>0.618652</td>\n",
       "      <td>25</td>\n",
       "      <td>127</td>\n",
       "      <td>949</td>\n",
       "      <td>5</td>\n",
       "      <td>7</td>\n",
       "    </tr>\n",
       "    <tr>\n",
       "      <th>2</th>\n",
       "      <td>2</td>\n",
       "      <td>-1.134766</td>\n",
       "      <td>0</td>\n",
       "      <td>4</td>\n",
       "      <td>1</td>\n",
       "      <td>22</td>\n",
       "      <td>0.0</td>\n",
       "      <td>0</td>\n",
       "      <td>0.0</td>\n",
       "      <td>0.043762</td>\n",
       "      <td>18</td>\n",
       "      <td>111</td>\n",
       "      <td>1296</td>\n",
       "      <td>3</td>\n",
       "      <td>5</td>\n",
       "    </tr>\n",
       "  </tbody>\n",
       "</table>\n",
       "</div>"
      ],
      "text/plain": [
       "   key_value      edad  sexo  est_cvl  sit_lab  cod_ocu  ctd_hijos  \\\n",
       "0          0  1.136719     0        4        2       29        0.0   \n",
       "1          1 -1.513672     0        4        1       22        0.0   \n",
       "2          2 -1.134766     0        4        1       22        0.0   \n",
       "\n",
       "   flg_sin_email  ctd_veh   cod_ubi  lgr_vot  prv   dto  rgn  tip_lvledu  \n",
       "0              0      0.0  0.043762       18  111   772    3           0  \n",
       "1              1      0.0  0.618652       25  127   949    5           7  \n",
       "2              0      0.0  0.043762       18  111  1296    3           5  "
      ]
     },
     "execution_count": 8,
     "metadata": {},
     "output_type": "execute_result"
    }
   ],
   "source": [
    "se_test = pd.read_csv(\"../resources/data/se_test.csv\")\n",
    "se_test = analyze.reduce_mem_usage(se_test)\n",
    "se_test.head(3)"
   ]
  },
  {
   "cell_type": "code",
   "execution_count": 12,
   "metadata": {},
   "outputs": [
    {
     "name": "stdout",
     "output_type": "stream",
     "text": [
      "# key_value in train          :  396609\n",
      "# key_value in test           :  358428\n",
      "# intersection                :  358386\n",
      "# different                   :  38223\n",
      "example intersection          :  [0, 1, 358485, 358486]\n",
      "example different             :  [19746, 21193, 396664, 396665]\n"
     ]
    }
   ],
   "source": [
    "# not apply in this challenge because the id in train and test have different meaning\n",
    "intersection,different = analyze.intersection_columns(se_test.key_value,se_train.key_value,name1=\"train\",name2=\"test\")"
   ]
  },
  {
   "cell_type": "code",
   "execution_count": 13,
   "metadata": {},
   "outputs": [
    {
     "name": "stdout",
     "output_type": "stream",
     "text": [
      "# key_value in submission     :  396666\n",
      "# key_value in y_train        :  358487\n",
      "# intersection                :  358487\n",
      "# different                   :  38179\n",
      "example intersection          :  [0, 1, 358485, 358486]\n",
      "example different             :  [358487, 358488, 396664, 396665]\n"
     ]
    }
   ],
   "source": [
    "# not apply in this challenge because the id in train and test have different meaning\n",
    "intersection,different = analyze.intersection_columns(sample_submission.key_value,y_train.key_value,name1=\"submission\",name2=\"y_train\")"
   ]
  },
  {
   "cell_type": "code",
   "execution_count": 14,
   "metadata": {},
   "outputs": [
    {
     "name": "stdout",
     "output_type": "stream",
     "text": [
      "# key_value in submission     :  396666\n",
      "# key_value in y_train        :  396609\n",
      "# intersection                :  396609\n",
      "# different                   :  57\n",
      "example intersection          :  [0, 1, 396664, 396665]\n",
      "example different             :  [8527, 17885, 394591, 395414]\n"
     ]
    }
   ],
   "source": [
    "# not apply in this challenge because the id in train and test have different meaning\n",
    "intersection,different = analyze.intersection_columns(sample_submission.key_value,se_test.key_value,name1=\"submission\",name2=\"y_train\")"
   ]
  },
  {
   "cell_type": "code",
   "execution_count": null,
   "metadata": {},
   "outputs": [],
   "source": []
  }
 ],
 "metadata": {
  "kernelspec": {
   "display_name": "Python 3",
   "language": "python",
   "name": "python3"
  },
  "language_info": {
   "codemirror_mode": {
    "name": "ipython",
    "version": 3
   },
   "file_extension": ".py",
   "mimetype": "text/x-python",
   "name": "python",
   "nbconvert_exporter": "python",
   "pygments_lexer": "ipython3",
   "version": "3.8.5"
  }
 },
 "nbformat": 4,
 "nbformat_minor": 4
}
