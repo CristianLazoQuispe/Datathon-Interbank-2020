{
 "cells": [
  {
   "cell_type": "markdown",
   "metadata": {},
   "source": [
    "# Loading Libraries"
   ]
  },
  {
   "cell_type": "code",
   "execution_count": 1,
   "metadata": {},
   "outputs": [],
   "source": [
    "import pandas as pd\n",
    "import numpy as np\n",
    "import gc\n",
    "import seaborn as sns\n",
    "import matplotlib.pyplot as plt\n",
    "from utils import mygraph,analyze\n",
    "from datetime import datetime\n",
    "from scipy.stats import mode\n",
    "from tqdm import tqdm"
   ]
  },
  {
   "cell_type": "markdown",
   "metadata": {},
   "source": [
    "# Reading datasets"
   ]
  },
  {
   "cell_type": "code",
   "execution_count": 2,
   "metadata": {},
   "outputs": [
    {
     "name": "stdout",
     "output_type": "stream",
     "text": [
      "Memory usage of dataframe is 5.47 MB\n",
      "Memory usage after optimization is: 1.71 MB\n",
      "Decreased by 68.7%\n",
      "rows in table : 358487\n",
      "key values    : 358487\n",
      "Memory usage of dataframe is 6.05 MB\n",
      "Memory usage after optimization is: 1.89 MB\n",
      "Decreased by 68.7%\n",
      "rows in table : 396666\n",
      "key values    : 396666\n"
     ]
    }
   ],
   "source": [
    "y_train = pd.read_csv('../resources/data/y_train.csv')\n",
    "y_train = analyze.reduce_mem_usage(y_train)\n",
    "print(\"rows in table :\",y_train.shape[0])\n",
    "print(\"key values    :\",y_train.key_value.nunique())\n",
    "sample_submission = pd.read_csv('../resources/data/sample_submission.csv')\n",
    "sample_submission = analyze.reduce_mem_usage(sample_submission)\n",
    "print(\"rows in table :\",sample_submission.shape[0])\n",
    "print(\"key values    :\",sample_submission.key_value.nunique())"
   ]
  },
  {
   "cell_type": "code",
   "execution_count": 3,
   "metadata": {},
   "outputs": [
    {
     "name": "stdout",
     "output_type": "stream",
     "text": [
      "(30391626, 18)\n",
      "Memory usage of dataframe is 1362.23 MB\n",
      "Memory usage after optimization is: 1188.33 MB\n",
      "Decreased by 12.8%\n"
     ]
    },
    {
     "data": {
      "text/html": [
       "<div>\n",
       "<style scoped>\n",
       "    .dataframe tbody tr th:only-of-type {\n",
       "        vertical-align: middle;\n",
       "    }\n",
       "\n",
       "    .dataframe tbody tr th {\n",
       "        vertical-align: top;\n",
       "    }\n",
       "\n",
       "    .dataframe thead th {\n",
       "        text-align: right;\n",
       "    }\n",
       "</style>\n",
       "<table border=\"1\" class=\"dataframe\">\n",
       "  <thead>\n",
       "    <tr style=\"text-align: right;\">\n",
       "      <th></th>\n",
       "      <th>codmes</th>\n",
       "      <th>key_value</th>\n",
       "      <th>condicion</th>\n",
       "      <th>tipo_credito</th>\n",
       "      <th>cod_instit_financiera</th>\n",
       "      <th>saldo</th>\n",
       "      <th>PRODUCTO</th>\n",
       "      <th>RIESGO_DIRECTO</th>\n",
       "      <th>COD_CLASIFICACION_DEUDOR</th>\n",
       "      <th>in_range_default</th>\n",
       "      <th>condicion_id</th>\n",
       "      <th>cod_instit_financiera_id</th>\n",
       "      <th>PRODUCTO_id</th>\n",
       "      <th>PRODUCTO_id_notexist</th>\n",
       "      <th>RIESGO_DIRECTO_id</th>\n",
       "      <th>log_saldo</th>\n",
       "      <th>neg_saldo</th>\n",
       "      <th>saldo_1</th>\n",
       "    </tr>\n",
       "  </thead>\n",
       "  <tbody>\n",
       "    <tr>\n",
       "      <th>0</th>\n",
       "      <td>2017-11-01</td>\n",
       "      <td>4</td>\n",
       "      <td>0</td>\n",
       "      <td>12</td>\n",
       "      <td>33</td>\n",
       "      <td>-0.072571</td>\n",
       "      <td>6</td>\n",
       "      <td>-1</td>\n",
       "      <td>False</td>\n",
       "      <td>True</td>\n",
       "      <td>True</td>\n",
       "      <td>True</td>\n",
       "      <td>True</td>\n",
       "      <td>False</td>\n",
       "      <td>False</td>\n",
       "      <td>-2.621094</td>\n",
       "      <td>True</td>\n",
       "      <td>1.0</td>\n",
       "    </tr>\n",
       "    <tr>\n",
       "      <th>1</th>\n",
       "      <td>2017-11-01</td>\n",
       "      <td>4</td>\n",
       "      <td>0</td>\n",
       "      <td>12</td>\n",
       "      <td>33</td>\n",
       "      <td>-0.070618</td>\n",
       "      <td>7</td>\n",
       "      <td>-1</td>\n",
       "      <td>False</td>\n",
       "      <td>True</td>\n",
       "      <td>True</td>\n",
       "      <td>True</td>\n",
       "      <td>False</td>\n",
       "      <td>False</td>\n",
       "      <td>False</td>\n",
       "      <td>-2.648438</td>\n",
       "      <td>True</td>\n",
       "      <td>1.0</td>\n",
       "    </tr>\n",
       "    <tr>\n",
       "      <th>2</th>\n",
       "      <td>2017-11-01</td>\n",
       "      <td>4</td>\n",
       "      <td>0</td>\n",
       "      <td>12</td>\n",
       "      <td>61</td>\n",
       "      <td>-0.052063</td>\n",
       "      <td>5</td>\n",
       "      <td>-1</td>\n",
       "      <td>False</td>\n",
       "      <td>True</td>\n",
       "      <td>True</td>\n",
       "      <td>True</td>\n",
       "      <td>True</td>\n",
       "      <td>False</td>\n",
       "      <td>False</td>\n",
       "      <td>-2.953125</td>\n",
       "      <td>True</td>\n",
       "      <td>1.0</td>\n",
       "    </tr>\n",
       "  </tbody>\n",
       "</table>\n",
       "</div>"
      ],
      "text/plain": [
       "      codmes  key_value  condicion  tipo_credito  cod_instit_financiera  \\\n",
       "0 2017-11-01          4          0            12                     33   \n",
       "1 2017-11-01          4          0            12                     33   \n",
       "2 2017-11-01          4          0            12                     61   \n",
       "\n",
       "      saldo  PRODUCTO  RIESGO_DIRECTO  COD_CLASIFICACION_DEUDOR  \\\n",
       "0 -0.072571         6              -1                     False   \n",
       "1 -0.070618         7              -1                     False   \n",
       "2 -0.052063         5              -1                     False   \n",
       "\n",
       "   in_range_default  condicion_id  cod_instit_financiera_id  PRODUCTO_id  \\\n",
       "0              True          True                      True         True   \n",
       "1              True          True                      True        False   \n",
       "2              True          True                      True         True   \n",
       "\n",
       "   PRODUCTO_id_notexist  RIESGO_DIRECTO_id  log_saldo  neg_saldo  saldo_1  \n",
       "0                 False              False  -2.621094       True      1.0  \n",
       "1                 False              False  -2.648438       True      1.0  \n",
       "2                 False              False  -2.953125       True      1.0  "
      ]
     },
     "execution_count": 3,
     "metadata": {},
     "output_type": "execute_result"
    }
   ],
   "source": [
    "rcc_train = pd.read_hdf('../resources/mydata/rcc_train.h5', 'results_table')\n",
    "print(rcc_train.shape)\n",
    "rcc_train['codmes']= pd.to_datetime(rcc_train['codmes'],format='%Y-%m-%d')#%d infer_datetime_format=True)\n",
    "rcc_train = analyze.reduce_mem_usage(rcc_train)\n",
    "rcc_train.head(3)"
   ]
  },
  {
   "cell_type": "code",
   "execution_count": 4,
   "metadata": {},
   "outputs": [
    {
     "name": "stdout",
     "output_type": "stream",
     "text": [
      "(34351754, 18)\n",
      "Memory usage of dataframe is 1572.50 MB\n",
      "Memory usage after optimization is: 1375.94 MB\n",
      "Decreased by 12.5%\n"
     ]
    },
    {
     "data": {
      "text/html": [
       "<div>\n",
       "<style scoped>\n",
       "    .dataframe tbody tr th:only-of-type {\n",
       "        vertical-align: middle;\n",
       "    }\n",
       "\n",
       "    .dataframe tbody tr th {\n",
       "        vertical-align: top;\n",
       "    }\n",
       "\n",
       "    .dataframe thead th {\n",
       "        text-align: right;\n",
       "    }\n",
       "</style>\n",
       "<table border=\"1\" class=\"dataframe\">\n",
       "  <thead>\n",
       "    <tr style=\"text-align: right;\">\n",
       "      <th></th>\n",
       "      <th>codmes</th>\n",
       "      <th>key_value</th>\n",
       "      <th>condicion</th>\n",
       "      <th>tipo_credito</th>\n",
       "      <th>cod_instit_financiera</th>\n",
       "      <th>saldo</th>\n",
       "      <th>PRODUCTO</th>\n",
       "      <th>RIESGO_DIRECTO</th>\n",
       "      <th>COD_CLASIFICACION_DEUDOR</th>\n",
       "      <th>in_range_default</th>\n",
       "      <th>condicion_id</th>\n",
       "      <th>cod_instit_financiera_id</th>\n",
       "      <th>PRODUCTO_id</th>\n",
       "      <th>PRODUCTO_id_notexist</th>\n",
       "      <th>RIESGO_DIRECTO_id</th>\n",
       "      <th>log_saldo</th>\n",
       "      <th>neg_saldo</th>\n",
       "      <th>saldo_1</th>\n",
       "    </tr>\n",
       "  </thead>\n",
       "  <tbody>\n",
       "    <tr>\n",
       "      <th>0</th>\n",
       "      <td>2018-11-01</td>\n",
       "      <td>1103</td>\n",
       "      <td>0</td>\n",
       "      <td>10</td>\n",
       "      <td>28.0</td>\n",
       "      <td>-0.072815</td>\n",
       "      <td>1.0</td>\n",
       "      <td>-1</td>\n",
       "      <td>False</td>\n",
       "      <td>True</td>\n",
       "      <td>True</td>\n",
       "      <td>True</td>\n",
       "      <td>True</td>\n",
       "      <td>False</td>\n",
       "      <td>False</td>\n",
       "      <td>-2.617188</td>\n",
       "      <td>True</td>\n",
       "      <td>1.0</td>\n",
       "    </tr>\n",
       "    <tr>\n",
       "      <th>1</th>\n",
       "      <td>2018-11-01</td>\n",
       "      <td>1103</td>\n",
       "      <td>0</td>\n",
       "      <td>10</td>\n",
       "      <td>28.0</td>\n",
       "      <td>-0.072876</td>\n",
       "      <td>5.0</td>\n",
       "      <td>-1</td>\n",
       "      <td>False</td>\n",
       "      <td>True</td>\n",
       "      <td>True</td>\n",
       "      <td>True</td>\n",
       "      <td>True</td>\n",
       "      <td>False</td>\n",
       "      <td>False</td>\n",
       "      <td>-2.617188</td>\n",
       "      <td>True</td>\n",
       "      <td>1.0</td>\n",
       "    </tr>\n",
       "    <tr>\n",
       "      <th>2</th>\n",
       "      <td>2018-11-01</td>\n",
       "      <td>1103</td>\n",
       "      <td>0</td>\n",
       "      <td>10</td>\n",
       "      <td>28.0</td>\n",
       "      <td>-0.065857</td>\n",
       "      <td>4.0</td>\n",
       "      <td>1</td>\n",
       "      <td>False</td>\n",
       "      <td>True</td>\n",
       "      <td>True</td>\n",
       "      <td>True</td>\n",
       "      <td>True</td>\n",
       "      <td>False</td>\n",
       "      <td>False</td>\n",
       "      <td>-2.718750</td>\n",
       "      <td>True</td>\n",
       "      <td>1.0</td>\n",
       "    </tr>\n",
       "  </tbody>\n",
       "</table>\n",
       "</div>"
      ],
      "text/plain": [
       "      codmes  key_value  condicion  tipo_credito  cod_instit_financiera  \\\n",
       "0 2018-11-01       1103          0            10                   28.0   \n",
       "1 2018-11-01       1103          0            10                   28.0   \n",
       "2 2018-11-01       1103          0            10                   28.0   \n",
       "\n",
       "      saldo  PRODUCTO  RIESGO_DIRECTO  COD_CLASIFICACION_DEUDOR  \\\n",
       "0 -0.072815       1.0              -1                     False   \n",
       "1 -0.072876       5.0              -1                     False   \n",
       "2 -0.065857       4.0               1                     False   \n",
       "\n",
       "   in_range_default  condicion_id  cod_instit_financiera_id  PRODUCTO_id  \\\n",
       "0              True          True                      True         True   \n",
       "1              True          True                      True         True   \n",
       "2              True          True                      True         True   \n",
       "\n",
       "   PRODUCTO_id_notexist  RIESGO_DIRECTO_id  log_saldo  neg_saldo  saldo_1  \n",
       "0                 False              False  -2.617188       True      1.0  \n",
       "1                 False              False  -2.617188       True      1.0  \n",
       "2                 False              False  -2.718750       True      1.0  "
      ]
     },
     "execution_count": 4,
     "metadata": {},
     "output_type": "execute_result"
    }
   ],
   "source": [
    "rcc_test = pd.read_hdf('../resources/mydata/rcc_test.h5', 'results_table')\n",
    "print(rcc_test.shape)\n",
    "rcc_test['codmes']= pd.to_datetime(rcc_test['codmes'],format='%Y-%m-%d')#%d infer_datetime_format=True)\n",
    "rcc_test = analyze.reduce_mem_usage(rcc_test)\n",
    "rcc_test.head(3)"
   ]
  },
  {
   "cell_type": "code",
   "execution_count": 5,
   "metadata": {},
   "outputs": [
    {
     "name": "stdout",
     "output_type": "stream",
     "text": [
      "Memory usage of dataframe is 0.00 MB\n",
      "Memory usage after optimization is: 0.00 MB\n",
      "Decreased by 42.4%\n"
     ]
    },
    {
     "data": {
      "text/html": [
       "<div>\n",
       "<style scoped>\n",
       "    .dataframe tbody tr th:only-of-type {\n",
       "        vertical-align: middle;\n",
       "    }\n",
       "\n",
       "    .dataframe tbody tr th {\n",
       "        vertical-align: top;\n",
       "    }\n",
       "\n",
       "    .dataframe thead th {\n",
       "        text-align: right;\n",
       "    }\n",
       "</style>\n",
       "<table border=\"1\" class=\"dataframe\">\n",
       "  <thead>\n",
       "    <tr style=\"text-align: right;\">\n",
       "      <th></th>\n",
       "      <th>description</th>\n",
       "      <th>PRODUCTO</th>\n",
       "      <th>producto_class</th>\n",
       "      <th>producto_credito</th>\n",
       "    </tr>\n",
       "  </thead>\n",
       "  <tbody>\n",
       "    <tr>\n",
       "      <th>0</th>\n",
       "      <td>PRESTAMO PERSONAL</td>\n",
       "      <td>0</td>\n",
       "      <td>0</td>\n",
       "      <td>0</td>\n",
       "    </tr>\n",
       "    <tr>\n",
       "      <th>1</th>\n",
       "      <td>RENDIMIENTOS DEVENGADOS</td>\n",
       "      <td>1</td>\n",
       "      <td>0</td>\n",
       "      <td>0</td>\n",
       "    </tr>\n",
       "    <tr>\n",
       "      <th>2</th>\n",
       "      <td>LINEA TOTAL TC</td>\n",
       "      <td>2</td>\n",
       "      <td>0</td>\n",
       "      <td>0</td>\n",
       "    </tr>\n",
       "  </tbody>\n",
       "</table>\n",
       "</div>"
      ],
      "text/plain": [
       "               description  PRODUCTO  producto_class  producto_credito\n",
       "0        PRESTAMO PERSONAL         0               0                 0\n",
       "1  RENDIMIENTOS DEVENGADOS         1               0                 0\n",
       "2           LINEA TOTAL TC         2               0                 0"
      ]
     },
     "execution_count": 5,
     "metadata": {},
     "output_type": "execute_result"
    }
   ],
   "source": [
    "productos = pd.read_hdf('../resources/mydata/productos.h5', 'results_table')\n",
    "productos = analyze.reduce_mem_usage(productos)\n",
    "productos.columns = ['description','PRODUCTO','producto_class','producto_credito']\n",
    "productos.head(3)"
   ]
  },
  {
   "cell_type": "code",
   "execution_count": 6,
   "metadata": {},
   "outputs": [
    {
     "name": "stdout",
     "output_type": "stream",
     "text": [
      "Memory usage of dataframe is 41.02 MB\n",
      "Memory usage after optimization is: 8.20 MB\n",
      "Decreased by 80.0%\n"
     ]
    },
    {
     "data": {
      "text/html": [
       "<div>\n",
       "<style scoped>\n",
       "    .dataframe tbody tr th:only-of-type {\n",
       "        vertical-align: middle;\n",
       "    }\n",
       "\n",
       "    .dataframe tbody tr th {\n",
       "        vertical-align: top;\n",
       "    }\n",
       "\n",
       "    .dataframe thead th {\n",
       "        text-align: right;\n",
       "    }\n",
       "</style>\n",
       "<table border=\"1\" class=\"dataframe\">\n",
       "  <thead>\n",
       "    <tr style=\"text-align: right;\">\n",
       "      <th></th>\n",
       "      <th>key_value</th>\n",
       "      <th>edad</th>\n",
       "      <th>sexo</th>\n",
       "      <th>est_cvl</th>\n",
       "      <th>sit_lab</th>\n",
       "      <th>cod_ocu</th>\n",
       "      <th>ctd_hijos</th>\n",
       "      <th>flg_sin_email</th>\n",
       "      <th>ctd_veh</th>\n",
       "      <th>cod_ubi</th>\n",
       "      <th>lgr_vot</th>\n",
       "      <th>prv</th>\n",
       "      <th>dto</th>\n",
       "      <th>rgn</th>\n",
       "      <th>tip_lvledu</th>\n",
       "    </tr>\n",
       "  </thead>\n",
       "  <tbody>\n",
       "    <tr>\n",
       "      <th>0</th>\n",
       "      <td>0</td>\n",
       "      <td>-0.983887</td>\n",
       "      <td>1</td>\n",
       "      <td>4</td>\n",
       "      <td>2</td>\n",
       "      <td>22</td>\n",
       "      <td>0.0</td>\n",
       "      <td>1</td>\n",
       "      <td>0.0</td>\n",
       "      <td>-0.070190</td>\n",
       "      <td>17</td>\n",
       "      <td>47</td>\n",
       "      <td>687</td>\n",
       "      <td>4</td>\n",
       "      <td>0</td>\n",
       "    </tr>\n",
       "    <tr>\n",
       "      <th>1</th>\n",
       "      <td>1</td>\n",
       "      <td>0.000953</td>\n",
       "      <td>1</td>\n",
       "      <td>4</td>\n",
       "      <td>1</td>\n",
       "      <td>22</td>\n",
       "      <td>0.0</td>\n",
       "      <td>1</td>\n",
       "      <td>1.0</td>\n",
       "      <td>-0.738770</td>\n",
       "      <td>10</td>\n",
       "      <td>186</td>\n",
       "      <td>849</td>\n",
       "      <td>6</td>\n",
       "      <td>0</td>\n",
       "    </tr>\n",
       "    <tr>\n",
       "      <th>2</th>\n",
       "      <td>2</td>\n",
       "      <td>0.531250</td>\n",
       "      <td>0</td>\n",
       "      <td>4</td>\n",
       "      <td>1</td>\n",
       "      <td>22</td>\n",
       "      <td>0.0</td>\n",
       "      <td>1</td>\n",
       "      <td>0.0</td>\n",
       "      <td>-0.297363</td>\n",
       "      <td>15</td>\n",
       "      <td>84</td>\n",
       "      <td>1405</td>\n",
       "      <td>1</td>\n",
       "      <td>7</td>\n",
       "    </tr>\n",
       "  </tbody>\n",
       "</table>\n",
       "</div>"
      ],
      "text/plain": [
       "   key_value      edad  sexo  est_cvl  sit_lab  cod_ocu  ctd_hijos  \\\n",
       "0          0 -0.983887     1        4        2       22        0.0   \n",
       "1          1  0.000953     1        4        1       22        0.0   \n",
       "2          2  0.531250     0        4        1       22        0.0   \n",
       "\n",
       "   flg_sin_email  ctd_veh   cod_ubi  lgr_vot  prv   dto  rgn  tip_lvledu  \n",
       "0              1      0.0 -0.070190       17   47   687    4           0  \n",
       "1              1      1.0 -0.738770       10  186   849    6           0  \n",
       "2              1      0.0 -0.297363       15   84  1405    1           7  "
      ]
     },
     "execution_count": 6,
     "metadata": {},
     "output_type": "execute_result"
    }
   ],
   "source": [
    "se_train = pd.read_csv(\"../resources/data/se_train.csv\")\n",
    "se_train = analyze.reduce_mem_usage(se_train)\n",
    "se_train.head(3)"
   ]
  },
  {
   "cell_type": "code",
   "execution_count": 7,
   "metadata": {},
   "outputs": [
    {
     "name": "stdout",
     "output_type": "stream",
     "text": [
      "Memory usage of dataframe is 45.39 MB\n",
      "Memory usage after optimization is: 9.08 MB\n",
      "Decreased by 80.0%\n"
     ]
    },
    {
     "data": {
      "text/html": [
       "<div>\n",
       "<style scoped>\n",
       "    .dataframe tbody tr th:only-of-type {\n",
       "        vertical-align: middle;\n",
       "    }\n",
       "\n",
       "    .dataframe tbody tr th {\n",
       "        vertical-align: top;\n",
       "    }\n",
       "\n",
       "    .dataframe thead th {\n",
       "        text-align: right;\n",
       "    }\n",
       "</style>\n",
       "<table border=\"1\" class=\"dataframe\">\n",
       "  <thead>\n",
       "    <tr style=\"text-align: right;\">\n",
       "      <th></th>\n",
       "      <th>key_value</th>\n",
       "      <th>edad</th>\n",
       "      <th>sexo</th>\n",
       "      <th>est_cvl</th>\n",
       "      <th>sit_lab</th>\n",
       "      <th>cod_ocu</th>\n",
       "      <th>ctd_hijos</th>\n",
       "      <th>flg_sin_email</th>\n",
       "      <th>ctd_veh</th>\n",
       "      <th>cod_ubi</th>\n",
       "      <th>lgr_vot</th>\n",
       "      <th>prv</th>\n",
       "      <th>dto</th>\n",
       "      <th>rgn</th>\n",
       "      <th>tip_lvledu</th>\n",
       "    </tr>\n",
       "  </thead>\n",
       "  <tbody>\n",
       "    <tr>\n",
       "      <th>0</th>\n",
       "      <td>0</td>\n",
       "      <td>1.136719</td>\n",
       "      <td>0</td>\n",
       "      <td>4</td>\n",
       "      <td>2</td>\n",
       "      <td>29</td>\n",
       "      <td>0.0</td>\n",
       "      <td>0</td>\n",
       "      <td>0.0</td>\n",
       "      <td>0.043762</td>\n",
       "      <td>18</td>\n",
       "      <td>111</td>\n",
       "      <td>772</td>\n",
       "      <td>3</td>\n",
       "      <td>0</td>\n",
       "    </tr>\n",
       "    <tr>\n",
       "      <th>1</th>\n",
       "      <td>1</td>\n",
       "      <td>-1.513672</td>\n",
       "      <td>0</td>\n",
       "      <td>4</td>\n",
       "      <td>1</td>\n",
       "      <td>22</td>\n",
       "      <td>0.0</td>\n",
       "      <td>1</td>\n",
       "      <td>0.0</td>\n",
       "      <td>0.618652</td>\n",
       "      <td>25</td>\n",
       "      <td>127</td>\n",
       "      <td>949</td>\n",
       "      <td>5</td>\n",
       "      <td>7</td>\n",
       "    </tr>\n",
       "    <tr>\n",
       "      <th>2</th>\n",
       "      <td>2</td>\n",
       "      <td>-1.134766</td>\n",
       "      <td>0</td>\n",
       "      <td>4</td>\n",
       "      <td>1</td>\n",
       "      <td>22</td>\n",
       "      <td>0.0</td>\n",
       "      <td>0</td>\n",
       "      <td>0.0</td>\n",
       "      <td>0.043762</td>\n",
       "      <td>18</td>\n",
       "      <td>111</td>\n",
       "      <td>1296</td>\n",
       "      <td>3</td>\n",
       "      <td>5</td>\n",
       "    </tr>\n",
       "  </tbody>\n",
       "</table>\n",
       "</div>"
      ],
      "text/plain": [
       "   key_value      edad  sexo  est_cvl  sit_lab  cod_ocu  ctd_hijos  \\\n",
       "0          0  1.136719     0        4        2       29        0.0   \n",
       "1          1 -1.513672     0        4        1       22        0.0   \n",
       "2          2 -1.134766     0        4        1       22        0.0   \n",
       "\n",
       "   flg_sin_email  ctd_veh   cod_ubi  lgr_vot  prv   dto  rgn  tip_lvledu  \n",
       "0              0      0.0  0.043762       18  111   772    3           0  \n",
       "1              1      0.0  0.618652       25  127   949    5           7  \n",
       "2              0      0.0  0.043762       18  111  1296    3           5  "
      ]
     },
     "execution_count": 7,
     "metadata": {},
     "output_type": "execute_result"
    }
   ],
   "source": [
    "se_test = pd.read_csv(\"../resources/data/se_test.csv\")\n",
    "se_test = analyze.reduce_mem_usage(se_test)\n",
    "se_test.head(3)"
   ]
  },
  {
   "cell_type": "code",
   "execution_count": 8,
   "metadata": {},
   "outputs": [
    {
     "data": {
      "text/plain": [
       "0"
      ]
     },
     "execution_count": 8,
     "metadata": {},
     "output_type": "execute_result"
    }
   ],
   "source": [
    "rcc_train_prod_cliente = pd.merge(rcc_train,productos, how='left', on=['PRODUCTO'])\n",
    "rcc_train_prod_cliente = pd.merge(rcc_train_prod_cliente,se_train, how='left', on=['key_value'])\n",
    "del rcc_train\n",
    "del se_train\n",
    "gc.collect()"
   ]
  },
  {
   "cell_type": "code",
   "execution_count": 9,
   "metadata": {},
   "outputs": [
    {
     "data": {
      "text/plain": [
       "20"
      ]
     },
     "execution_count": 9,
     "metadata": {},
     "output_type": "execute_result"
    }
   ],
   "source": [
    "rcc_test_prod_cliente = pd.merge(rcc_test,productos, how='left', on=['PRODUCTO'])\n",
    "rcc_test_prod_cliente = pd.merge(rcc_test_prod_cliente,se_test, how='left', on=['key_value'])\n",
    "del rcc_test\n",
    "del se_test\n",
    "gc.collect()"
   ]
  },
  {
   "cell_type": "code",
   "execution_count": 10,
   "metadata": {},
   "outputs": [
    {
     "data": {
      "text/html": [
       "<div>\n",
       "<style scoped>\n",
       "    .dataframe tbody tr th:only-of-type {\n",
       "        vertical-align: middle;\n",
       "    }\n",
       "\n",
       "    .dataframe tbody tr th {\n",
       "        vertical-align: top;\n",
       "    }\n",
       "\n",
       "    .dataframe thead th {\n",
       "        text-align: right;\n",
       "    }\n",
       "</style>\n",
       "<table border=\"1\" class=\"dataframe\">\n",
       "  <thead>\n",
       "    <tr style=\"text-align: right;\">\n",
       "      <th></th>\n",
       "      <th>codmes</th>\n",
       "      <th>key_value</th>\n",
       "      <th>condicion</th>\n",
       "      <th>tipo_credito</th>\n",
       "      <th>cod_instit_financiera</th>\n",
       "      <th>saldo</th>\n",
       "      <th>PRODUCTO</th>\n",
       "      <th>RIESGO_DIRECTO</th>\n",
       "      <th>COD_CLASIFICACION_DEUDOR</th>\n",
       "      <th>in_range_default</th>\n",
       "      <th>...</th>\n",
       "      <th>cod_ocu</th>\n",
       "      <th>ctd_hijos</th>\n",
       "      <th>flg_sin_email</th>\n",
       "      <th>ctd_veh</th>\n",
       "      <th>cod_ubi</th>\n",
       "      <th>lgr_vot</th>\n",
       "      <th>prv</th>\n",
       "      <th>dto</th>\n",
       "      <th>rgn</th>\n",
       "      <th>tip_lvledu</th>\n",
       "    </tr>\n",
       "  </thead>\n",
       "  <tbody>\n",
       "    <tr>\n",
       "      <th>0</th>\n",
       "      <td>2017-11-01</td>\n",
       "      <td>4</td>\n",
       "      <td>0</td>\n",
       "      <td>12</td>\n",
       "      <td>33</td>\n",
       "      <td>-0.072571</td>\n",
       "      <td>6</td>\n",
       "      <td>-1</td>\n",
       "      <td>False</td>\n",
       "      <td>True</td>\n",
       "      <td>...</td>\n",
       "      <td>22.0</td>\n",
       "      <td>0.0</td>\n",
       "      <td>1.0</td>\n",
       "      <td>0.0</td>\n",
       "      <td>0.043427</td>\n",
       "      <td>18.0</td>\n",
       "      <td>111.0</td>\n",
       "      <td>391.0</td>\n",
       "      <td>3.0</td>\n",
       "      <td>0.0</td>\n",
       "    </tr>\n",
       "    <tr>\n",
       "      <th>1</th>\n",
       "      <td>2017-11-01</td>\n",
       "      <td>4</td>\n",
       "      <td>0</td>\n",
       "      <td>12</td>\n",
       "      <td>33</td>\n",
       "      <td>-0.070618</td>\n",
       "      <td>7</td>\n",
       "      <td>-1</td>\n",
       "      <td>False</td>\n",
       "      <td>True</td>\n",
       "      <td>...</td>\n",
       "      <td>22.0</td>\n",
       "      <td>0.0</td>\n",
       "      <td>1.0</td>\n",
       "      <td>0.0</td>\n",
       "      <td>0.043427</td>\n",
       "      <td>18.0</td>\n",
       "      <td>111.0</td>\n",
       "      <td>391.0</td>\n",
       "      <td>3.0</td>\n",
       "      <td>0.0</td>\n",
       "    </tr>\n",
       "  </tbody>\n",
       "</table>\n",
       "<p>2 rows × 35 columns</p>\n",
       "</div>"
      ],
      "text/plain": [
       "      codmes  key_value  condicion  tipo_credito  cod_instit_financiera  \\\n",
       "0 2017-11-01          4          0            12                     33   \n",
       "1 2017-11-01          4          0            12                     33   \n",
       "\n",
       "      saldo  PRODUCTO  RIESGO_DIRECTO  COD_CLASIFICACION_DEUDOR  \\\n",
       "0 -0.072571         6              -1                     False   \n",
       "1 -0.070618         7              -1                     False   \n",
       "\n",
       "   in_range_default  ...  cod_ocu  ctd_hijos  flg_sin_email  ctd_veh  \\\n",
       "0              True  ...     22.0        0.0            1.0      0.0   \n",
       "1              True  ...     22.0        0.0            1.0      0.0   \n",
       "\n",
       "    cod_ubi  lgr_vot    prv    dto  rgn  tip_lvledu  \n",
       "0  0.043427     18.0  111.0  391.0  3.0         0.0  \n",
       "1  0.043427     18.0  111.0  391.0  3.0         0.0  \n",
       "\n",
       "[2 rows x 35 columns]"
      ]
     },
     "execution_count": 10,
     "metadata": {},
     "output_type": "execute_result"
    }
   ],
   "source": [
    "rcc_train_prod_cliente.head(2)"
   ]
  },
  {
   "cell_type": "raw",
   "metadata": {},
   "source": [
    "rcc_test_prod_cliente.head(2)"
   ]
  },
  {
   "cell_type": "code",
   "execution_count": 11,
   "metadata": {},
   "outputs": [],
   "source": [
    "n = len(rcc_train_prod_cliente)\n",
    "nunique = rcc_train_prod_cliente.nunique()\n",
    "names_column = nunique.index\n",
    "bynary_columns = nunique[nunique==2].index\n",
    "unique_columns = nunique[nunique==1].index\n",
    "rcc_train_prod_cliente.drop(columns = list(unique_columns),inplace =True)\n",
    "names_column  = (set(names_column) - set(bynary_columns))-set(unique_columns)"
   ]
  },
  {
   "cell_type": "code",
   "execution_count": 12,
   "metadata": {},
   "outputs": [
    {
     "data": {
      "text/plain": [
       "codmes                          12\n",
       "key_value                   358487\n",
       "condicion                     7245\n",
       "tipo_credito                     8\n",
       "cod_instit_financiera          109\n",
       "saldo                        16573\n",
       "PRODUCTO                        42\n",
       "RIESGO_DIRECTO                   5\n",
       "COD_CLASIFICACION_DEUDOR         2\n",
       "in_range_default                 2\n",
       "condicion_id                     2\n",
       "cod_instit_financiera_id         1\n",
       "PRODUCTO_id                      2\n",
       "PRODUCTO_id_notexist             2\n",
       "RIESGO_DIRECTO_id                2\n",
       "log_saldo                     8039\n",
       "neg_saldo                        2\n",
       "saldo_1                          5\n",
       "description                     41\n",
       "producto_class                   3\n",
       "producto_credito                 2\n",
       "edad                            80\n",
       "sexo                             4\n",
       "est_cvl                          6\n",
       "sit_lab                          4\n",
       "cod_ocu                         39\n",
       "ctd_hijos                       12\n",
       "flg_sin_email                    2\n",
       "ctd_veh                         47\n",
       "cod_ubi                        328\n",
       "lgr_vot                         31\n",
       "prv                            197\n",
       "dto                           1662\n",
       "rgn                              7\n",
       "tip_lvledu                       8\n",
       "dtype: int64"
      ]
     },
     "execution_count": 12,
     "metadata": {},
     "output_type": "execute_result"
    }
   ],
   "source": [
    "nunique"
   ]
  },
  {
   "cell_type": "code",
   "execution_count": 13,
   "metadata": {},
   "outputs": [],
   "source": [
    "rcc_test_prod_cliente.drop(columns = list(unique_columns),inplace =True)"
   ]
  },
  {
   "cell_type": "code",
   "execution_count": 14,
   "metadata": {},
   "outputs": [
    {
     "data": {
      "text/plain": [
       "codmes                       12\n",
       "key_value                358487\n",
       "condicion                  7245\n",
       "tipo_credito                  8\n",
       "cod_instit_financiera       109\n",
       "saldo                     16573\n",
       "PRODUCTO                     42\n",
       "RIESGO_DIRECTO                5\n",
       "log_saldo                  8039\n",
       "saldo_1                       5\n",
       "description                  41\n",
       "producto_class                3\n",
       "edad                         80\n",
       "sexo                          4\n",
       "est_cvl                       6\n",
       "sit_lab                       4\n",
       "cod_ocu                      39\n",
       "ctd_hijos                    12\n",
       "ctd_veh                      47\n",
       "cod_ubi                     328\n",
       "lgr_vot                      31\n",
       "prv                         197\n",
       "dto                        1662\n",
       "rgn                           7\n",
       "tip_lvledu                    8\n",
       "dtype: int64"
      ]
     },
     "execution_count": 14,
     "metadata": {},
     "output_type": "execute_result"
    }
   ],
   "source": [
    "nunique[nunique.index.isin(names_column)]"
   ]
  },
  {
   "cell_type": "code",
   "execution_count": 15,
   "metadata": {},
   "outputs": [],
   "source": [
    "datetime_object = datetime.strptime('2018-02-01', '%Y-%m-%d')\n",
    "rcc_train_prod_cliente['diff_month']  = ((datetime_object - rcc_train_prod_cliente.codmes).dt.days/30).astype(int)"
   ]
  },
  {
   "cell_type": "code",
   "execution_count": 16,
   "metadata": {},
   "outputs": [],
   "source": [
    "datetime_object = datetime.strptime('2019-02-01', '%Y-%m-%d')\n",
    "rcc_test_prod_cliente['diff_month']   = ((datetime_object - rcc_test_prod_cliente.codmes).dt.days/30).astype(int)"
   ]
  },
  {
   "cell_type": "code",
   "execution_count": 17,
   "metadata": {},
   "outputs": [
    {
     "data": {
      "text/html": [
       "<div>\n",
       "<style scoped>\n",
       "    .dataframe tbody tr th:only-of-type {\n",
       "        vertical-align: middle;\n",
       "    }\n",
       "\n",
       "    .dataframe tbody tr th {\n",
       "        vertical-align: top;\n",
       "    }\n",
       "\n",
       "    .dataframe thead th {\n",
       "        text-align: right;\n",
       "    }\n",
       "</style>\n",
       "<table border=\"1\" class=\"dataframe\">\n",
       "  <thead>\n",
       "    <tr style=\"text-align: right;\">\n",
       "      <th></th>\n",
       "      <th>codmes</th>\n",
       "      <th>key_value</th>\n",
       "      <th>condicion</th>\n",
       "      <th>tipo_credito</th>\n",
       "      <th>cod_instit_financiera</th>\n",
       "      <th>saldo</th>\n",
       "      <th>PRODUCTO</th>\n",
       "      <th>RIESGO_DIRECTO</th>\n",
       "      <th>COD_CLASIFICACION_DEUDOR</th>\n",
       "      <th>in_range_default</th>\n",
       "      <th>...</th>\n",
       "      <th>ctd_hijos</th>\n",
       "      <th>flg_sin_email</th>\n",
       "      <th>ctd_veh</th>\n",
       "      <th>cod_ubi</th>\n",
       "      <th>lgr_vot</th>\n",
       "      <th>prv</th>\n",
       "      <th>dto</th>\n",
       "      <th>rgn</th>\n",
       "      <th>tip_lvledu</th>\n",
       "      <th>diff_month</th>\n",
       "    </tr>\n",
       "  </thead>\n",
       "  <tbody>\n",
       "    <tr>\n",
       "      <th>0</th>\n",
       "      <td>2017-11-01</td>\n",
       "      <td>4</td>\n",
       "      <td>0</td>\n",
       "      <td>12</td>\n",
       "      <td>33</td>\n",
       "      <td>-0.072571</td>\n",
       "      <td>6</td>\n",
       "      <td>-1</td>\n",
       "      <td>False</td>\n",
       "      <td>True</td>\n",
       "      <td>...</td>\n",
       "      <td>0.0</td>\n",
       "      <td>1.0</td>\n",
       "      <td>0.0</td>\n",
       "      <td>0.043427</td>\n",
       "      <td>18.0</td>\n",
       "      <td>111.0</td>\n",
       "      <td>391.0</td>\n",
       "      <td>3.0</td>\n",
       "      <td>0.0</td>\n",
       "      <td>3</td>\n",
       "    </tr>\n",
       "    <tr>\n",
       "      <th>1</th>\n",
       "      <td>2017-11-01</td>\n",
       "      <td>4</td>\n",
       "      <td>0</td>\n",
       "      <td>12</td>\n",
       "      <td>33</td>\n",
       "      <td>-0.070618</td>\n",
       "      <td>7</td>\n",
       "      <td>-1</td>\n",
       "      <td>False</td>\n",
       "      <td>True</td>\n",
       "      <td>...</td>\n",
       "      <td>0.0</td>\n",
       "      <td>1.0</td>\n",
       "      <td>0.0</td>\n",
       "      <td>0.043427</td>\n",
       "      <td>18.0</td>\n",
       "      <td>111.0</td>\n",
       "      <td>391.0</td>\n",
       "      <td>3.0</td>\n",
       "      <td>0.0</td>\n",
       "      <td>3</td>\n",
       "    </tr>\n",
       "  </tbody>\n",
       "</table>\n",
       "<p>2 rows × 35 columns</p>\n",
       "</div>"
      ],
      "text/plain": [
       "      codmes  key_value  condicion  tipo_credito  cod_instit_financiera  \\\n",
       "0 2017-11-01          4          0            12                     33   \n",
       "1 2017-11-01          4          0            12                     33   \n",
       "\n",
       "      saldo  PRODUCTO  RIESGO_DIRECTO  COD_CLASIFICACION_DEUDOR  \\\n",
       "0 -0.072571         6              -1                     False   \n",
       "1 -0.070618         7              -1                     False   \n",
       "\n",
       "   in_range_default  ...  ctd_hijos  flg_sin_email  ctd_veh   cod_ubi  \\\n",
       "0              True  ...        0.0            1.0      0.0  0.043427   \n",
       "1              True  ...        0.0            1.0      0.0  0.043427   \n",
       "\n",
       "   lgr_vot    prv    dto  rgn  tip_lvledu  diff_month  \n",
       "0     18.0  111.0  391.0  3.0         0.0           3  \n",
       "1     18.0  111.0  391.0  3.0         0.0           3  \n",
       "\n",
       "[2 rows x 35 columns]"
      ]
     },
     "execution_count": 17,
     "metadata": {},
     "output_type": "execute_result"
    }
   ],
   "source": [
    "rcc_train_prod_cliente.head(2)"
   ]
  },
  {
   "cell_type": "code",
   "execution_count": 18,
   "metadata": {},
   "outputs": [
    {
     "data": {
      "text/html": [
       "<div>\n",
       "<style scoped>\n",
       "    .dataframe tbody tr th:only-of-type {\n",
       "        vertical-align: middle;\n",
       "    }\n",
       "\n",
       "    .dataframe tbody tr th {\n",
       "        vertical-align: top;\n",
       "    }\n",
       "\n",
       "    .dataframe thead th {\n",
       "        text-align: right;\n",
       "    }\n",
       "</style>\n",
       "<table border=\"1\" class=\"dataframe\">\n",
       "  <thead>\n",
       "    <tr style=\"text-align: right;\">\n",
       "      <th></th>\n",
       "      <th>codmes</th>\n",
       "      <th>key_value</th>\n",
       "      <th>condicion</th>\n",
       "      <th>tipo_credito</th>\n",
       "      <th>cod_instit_financiera</th>\n",
       "      <th>saldo</th>\n",
       "      <th>PRODUCTO</th>\n",
       "      <th>RIESGO_DIRECTO</th>\n",
       "      <th>COD_CLASIFICACION_DEUDOR</th>\n",
       "      <th>in_range_default</th>\n",
       "      <th>...</th>\n",
       "      <th>ctd_hijos</th>\n",
       "      <th>flg_sin_email</th>\n",
       "      <th>ctd_veh</th>\n",
       "      <th>cod_ubi</th>\n",
       "      <th>lgr_vot</th>\n",
       "      <th>prv</th>\n",
       "      <th>dto</th>\n",
       "      <th>rgn</th>\n",
       "      <th>tip_lvledu</th>\n",
       "      <th>diff_month</th>\n",
       "    </tr>\n",
       "  </thead>\n",
       "  <tbody>\n",
       "    <tr>\n",
       "      <th>0</th>\n",
       "      <td>2017-11-01</td>\n",
       "      <td>4</td>\n",
       "      <td>0</td>\n",
       "      <td>12</td>\n",
       "      <td>33</td>\n",
       "      <td>-0.072571</td>\n",
       "      <td>6</td>\n",
       "      <td>-1</td>\n",
       "      <td>False</td>\n",
       "      <td>True</td>\n",
       "      <td>...</td>\n",
       "      <td>0.0</td>\n",
       "      <td>1.0</td>\n",
       "      <td>0.0</td>\n",
       "      <td>0.043427</td>\n",
       "      <td>18.0</td>\n",
       "      <td>111.0</td>\n",
       "      <td>391.0</td>\n",
       "      <td>3.0</td>\n",
       "      <td>0.0</td>\n",
       "      <td>3</td>\n",
       "    </tr>\n",
       "    <tr>\n",
       "      <th>1</th>\n",
       "      <td>2017-11-01</td>\n",
       "      <td>4</td>\n",
       "      <td>0</td>\n",
       "      <td>12</td>\n",
       "      <td>33</td>\n",
       "      <td>-0.070618</td>\n",
       "      <td>7</td>\n",
       "      <td>-1</td>\n",
       "      <td>False</td>\n",
       "      <td>True</td>\n",
       "      <td>...</td>\n",
       "      <td>0.0</td>\n",
       "      <td>1.0</td>\n",
       "      <td>0.0</td>\n",
       "      <td>0.043427</td>\n",
       "      <td>18.0</td>\n",
       "      <td>111.0</td>\n",
       "      <td>391.0</td>\n",
       "      <td>3.0</td>\n",
       "      <td>0.0</td>\n",
       "      <td>3</td>\n",
       "    </tr>\n",
       "    <tr>\n",
       "      <th>2</th>\n",
       "      <td>2017-11-01</td>\n",
       "      <td>4</td>\n",
       "      <td>0</td>\n",
       "      <td>12</td>\n",
       "      <td>61</td>\n",
       "      <td>-0.052063</td>\n",
       "      <td>5</td>\n",
       "      <td>-1</td>\n",
       "      <td>False</td>\n",
       "      <td>True</td>\n",
       "      <td>...</td>\n",
       "      <td>0.0</td>\n",
       "      <td>1.0</td>\n",
       "      <td>0.0</td>\n",
       "      <td>0.043427</td>\n",
       "      <td>18.0</td>\n",
       "      <td>111.0</td>\n",
       "      <td>391.0</td>\n",
       "      <td>3.0</td>\n",
       "      <td>0.0</td>\n",
       "      <td>3</td>\n",
       "    </tr>\n",
       "    <tr>\n",
       "      <th>3</th>\n",
       "      <td>2017-11-01</td>\n",
       "      <td>4</td>\n",
       "      <td>0</td>\n",
       "      <td>11</td>\n",
       "      <td>32</td>\n",
       "      <td>-0.072449</td>\n",
       "      <td>8</td>\n",
       "      <td>1</td>\n",
       "      <td>False</td>\n",
       "      <td>True</td>\n",
       "      <td>...</td>\n",
       "      <td>0.0</td>\n",
       "      <td>1.0</td>\n",
       "      <td>0.0</td>\n",
       "      <td>0.043427</td>\n",
       "      <td>18.0</td>\n",
       "      <td>111.0</td>\n",
       "      <td>391.0</td>\n",
       "      <td>3.0</td>\n",
       "      <td>0.0</td>\n",
       "      <td>3</td>\n",
       "    </tr>\n",
       "    <tr>\n",
       "      <th>4</th>\n",
       "      <td>2017-11-01</td>\n",
       "      <td>4</td>\n",
       "      <td>0</td>\n",
       "      <td>12</td>\n",
       "      <td>61</td>\n",
       "      <td>-0.057892</td>\n",
       "      <td>0</td>\n",
       "      <td>1</td>\n",
       "      <td>False</td>\n",
       "      <td>True</td>\n",
       "      <td>...</td>\n",
       "      <td>0.0</td>\n",
       "      <td>1.0</td>\n",
       "      <td>0.0</td>\n",
       "      <td>0.043427</td>\n",
       "      <td>18.0</td>\n",
       "      <td>111.0</td>\n",
       "      <td>391.0</td>\n",
       "      <td>3.0</td>\n",
       "      <td>0.0</td>\n",
       "      <td>3</td>\n",
       "    </tr>\n",
       "  </tbody>\n",
       "</table>\n",
       "<p>5 rows × 35 columns</p>\n",
       "</div>"
      ],
      "text/plain": [
       "      codmes  key_value  condicion  tipo_credito  cod_instit_financiera  \\\n",
       "0 2017-11-01          4          0            12                     33   \n",
       "1 2017-11-01          4          0            12                     33   \n",
       "2 2017-11-01          4          0            12                     61   \n",
       "3 2017-11-01          4          0            11                     32   \n",
       "4 2017-11-01          4          0            12                     61   \n",
       "\n",
       "      saldo  PRODUCTO  RIESGO_DIRECTO  COD_CLASIFICACION_DEUDOR  \\\n",
       "0 -0.072571         6              -1                     False   \n",
       "1 -0.070618         7              -1                     False   \n",
       "2 -0.052063         5              -1                     False   \n",
       "3 -0.072449         8               1                     False   \n",
       "4 -0.057892         0               1                     False   \n",
       "\n",
       "   in_range_default  ...  ctd_hijos  flg_sin_email  ctd_veh   cod_ubi  \\\n",
       "0              True  ...        0.0            1.0      0.0  0.043427   \n",
       "1              True  ...        0.0            1.0      0.0  0.043427   \n",
       "2              True  ...        0.0            1.0      0.0  0.043427   \n",
       "3              True  ...        0.0            1.0      0.0  0.043427   \n",
       "4              True  ...        0.0            1.0      0.0  0.043427   \n",
       "\n",
       "   lgr_vot    prv    dto  rgn  tip_lvledu  diff_month  \n",
       "0     18.0  111.0  391.0  3.0         0.0           3  \n",
       "1     18.0  111.0  391.0  3.0         0.0           3  \n",
       "2     18.0  111.0  391.0  3.0         0.0           3  \n",
       "3     18.0  111.0  391.0  3.0         0.0           3  \n",
       "4     18.0  111.0  391.0  3.0         0.0           3  \n",
       "\n",
       "[5 rows x 35 columns]"
      ]
     },
     "execution_count": 18,
     "metadata": {},
     "output_type": "execute_result"
    }
   ],
   "source": [
    "rcc_train_prod_cliente_short = rcc_train_prod_cliente.iloc[:100000]\n",
    "rcc_train_prod_cliente_short.head()"
   ]
  },
  {
   "cell_type": "code",
   "execution_count": 19,
   "metadata": {},
   "outputs": [],
   "source": [
    "def float_to_float32(df):\n",
    "    for name in df.columns:\n",
    "        type_ = str(df[name].dtypes)\n",
    "        if('float' in type_ or 'int' in type_):\n",
    "            df[name] = df[name].astype(np.float32)\n",
    "    return df"
   ]
  },
  {
   "cell_type": "code",
   "execution_count": 20,
   "metadata": {},
   "outputs": [],
   "source": [
    "rcc_train_prod_cliente             = float_to_float32(rcc_train_prod_cliente)\n",
    "rcc_train_prod_cliente.key_value   = rcc_train_prod_cliente.key_value.astype(int)\n",
    "rcc_train_prod_cliente.diff_month  = rcc_train_prod_cliente.diff_month.astype(int)"
   ]
  },
  {
   "cell_type": "code",
   "execution_count": 21,
   "metadata": {},
   "outputs": [],
   "source": [
    "rcc_test_prod_cliente             = float_to_float32(rcc_test_prod_cliente)\n",
    "rcc_test_prod_cliente.key_value   = rcc_test_prod_cliente.key_value.astype(int)\n",
    "rcc_test_prod_cliente.diff_month  = rcc_test_prod_cliente.diff_month.astype(int)"
   ]
  },
  {
   "cell_type": "code",
   "execution_count": 22,
   "metadata": {},
   "outputs": [
    {
     "name": "stdout",
     "output_type": "stream",
     "text": [
      "['codmes', 'key_value', 'condicion', 'tipo_credito', 'cod_instit_financiera', 'saldo', 'PRODUCTO', 'RIESGO_DIRECTO', 'COD_CLASIFICACION_DEUDOR', 'in_range_default', 'condicion_id', 'PRODUCTO_id', 'PRODUCTO_id_notexist', 'RIESGO_DIRECTO_id', 'log_saldo', 'neg_saldo', 'saldo_1', 'description', 'producto_class', 'producto_credito', 'edad', 'sexo', 'est_cvl', 'sit_lab', 'cod_ocu', 'ctd_hijos', 'flg_sin_email', 'ctd_veh', 'cod_ubi', 'lgr_vot', 'prv', 'dto', 'rgn', 'tip_lvledu', 'diff_month']\n"
     ]
    }
   ],
   "source": [
    "print(list(rcc_test_prod_cliente.columns))"
   ]
  },
  {
   "cell_type": "code",
   "execution_count": null,
   "metadata": {},
   "outputs": [],
   "source": []
  },
  {
   "cell_type": "code",
   "execution_count": 23,
   "metadata": {},
   "outputs": [
    {
     "data": {
      "text/plain": [
       "\"\\nft['ctd_hijos'] = ['count','max',mode_agg]\\nft['ctd_veh'] = ['max',mode_agg]\\nft['tipo_credito']=[mode_agg]\\nft['cod_instit_financiera']=[mode_agg]\\nft['PRODUCTO']=[mode_agg]\\nft['RIESGO_DIRECTO']=[mode_agg]\\nft['COD_CLASIFICACION_DEUDOR']=[mode_agg]\\nft['in_range_default']=[mode_agg]\\nft['condicion_id']=[mode_agg]\\nft['PRODUCTO_id']=[mode_agg]\\nft['PRODUCTO_id_notexist']=[mode_agg]\\nft['RIESGO_DIRECTO_id']=[mode_agg]\\nft['neg_saldo']=[mode_agg]\\nft['saldo_1']=[mode_agg]\\nft['description']=[mode_agg]\\nft['producto_class']=[mode_agg]\\nft['producto_credito']=[mode_agg]\\nft['tip_lvledu']=[mode_agg]\\n#\""
      ]
     },
     "execution_count": 23,
     "metadata": {},
     "output_type": "execute_result"
    }
   ],
   "source": [
    "ft={}\n",
    "mode_agg = lambda x: x.mode().iloc[0]\n",
    "\n",
    "mode_agg = lambda x: mode(x)[0][0]\n",
    "\n",
    "lt = ['condicion','saldo','log_saldo']\n",
    "for x in lt:\n",
    "    ft[x]=['max','min','mean','sum']    \n",
    "\n",
    "ft['ctd_hijos'] = ['count','max']\n",
    "ft['ctd_veh'] = ['max']\n",
    "'''\n",
    "ft['ctd_hijos'] = ['count','max',mode_agg]\n",
    "ft['ctd_veh'] = ['max',mode_agg]\n",
    "ft['tipo_credito']=[mode_agg]\n",
    "ft['cod_instit_financiera']=[mode_agg]\n",
    "ft['PRODUCTO']=[mode_agg]\n",
    "ft['RIESGO_DIRECTO']=[mode_agg]\n",
    "ft['COD_CLASIFICACION_DEUDOR']=[mode_agg]\n",
    "ft['in_range_default']=[mode_agg]\n",
    "ft['condicion_id']=[mode_agg]\n",
    "ft['PRODUCTO_id']=[mode_agg]\n",
    "ft['PRODUCTO_id_notexist']=[mode_agg]\n",
    "ft['RIESGO_DIRECTO_id']=[mode_agg]\n",
    "ft['neg_saldo']=[mode_agg]\n",
    "ft['saldo_1']=[mode_agg]\n",
    "ft['description']=[mode_agg]\n",
    "ft['producto_class']=[mode_agg]\n",
    "ft['producto_credito']=[mode_agg]\n",
    "ft['tip_lvledu']=[mode_agg]\n",
    "#'''"
   ]
  },
  {
   "cell_type": "code",
   "execution_count": 24,
   "metadata": {},
   "outputs": [
    {
     "data": {
      "text/plain": [
       "['condicion', 'saldo', 'log_saldo', 'ctd_hijos', 'ctd_veh']"
      ]
     },
     "execution_count": 24,
     "metadata": {},
     "output_type": "execute_result"
    }
   ],
   "source": [
    "list(ft.keys())"
   ]
  },
  {
   "cell_type": "code",
   "execution_count": 25,
   "metadata": {},
   "outputs": [],
   "source": [
    "#del rcc_train_prod_cliente_agg\n",
    "#gc.collect()"
   ]
  },
  {
   "cell_type": "code",
   "execution_count": 26,
   "metadata": {},
   "outputs": [],
   "source": [
    "ids = list(rcc_train_prod_cliente.key_value.unique())"
   ]
  },
  {
   "cell_type": "raw",
   "metadata": {},
   "source": [
    "rcc_train_prod_cliente_agg = rcc_train_prod_cliente[rcc_train_prod_cliente.key_value ==ids[0]]\n",
    "for id_ in tqdm(ids[1:]):\n",
    "    rcc_train_prod_cliente_agg = pd.concat([rcc_train_prod_cliente_agg,rcc_train_prod_cliente[rcc_train_prod_cliente.key_value ==id_]])\n",
    "rcc_train_prod_cliente_agg.head()\n"
   ]
  },
  {
   "cell_type": "code",
   "execution_count": 27,
   "metadata": {},
   "outputs": [],
   "source": [
    "def agg_periods(df, rangos,list_names):\n",
    "    for rango in tqdm(rangos):\n",
    "        for columna_ in list_names:\n",
    "            lista_columnas = []\n",
    "            for j in range(rango[0],rango[1]+1):\n",
    "                lista_columnas.append(columna_+'_'+str(j))\n",
    "            df[columna_+str(rango[0])+'_'+str(rango[1])+'_Mean'] = df[lista_columnas].mean(axis=1)\n",
    "            df[columna_+str(rango[0])+'_'+str(rango[1])+'_Sum'] = df[lista_columnas].sum(axis=1)\n",
    "            df[columna_+str(rango[0])+'_'+str(rango[1])+'_Min'] = df[lista_columnas].min(axis=1)\n",
    "            df[columna_+str(rango[0])+'_'+str(rango[1])+'_Max'] = df[lista_columnas].max(axis=1)\n",
    "            df[columna_+str(rango[0])+'_'+str(rango[1])+'_STD'] = df[lista_columnas].std(axis=1)\n",
    "            df[columna_+str(rango[0])+'_'+str(rango[1])+'_STD'] = df[lista_columnas].std(axis=1)\n",
    "            if rango[1]>=3:\n",
    "                df[columna_+str(rango[0])+'_'+str(rango[1])+'_SKEW'] = df[lista_columnas].skew(axis=1)\n",
    "            if rango[1]>=4:\n",
    "                df[columna_+str(rango[0])+'_'+str(rango[1])+'_KURT'] = df[lista_columnas].kurt(axis=1)\n",
    "    return df"
   ]
  },
  {
   "cell_type": "code",
   "execution_count": 28,
   "metadata": {},
   "outputs": [],
   "source": [
    "rcc_train_prod_cliente_agg = pd.pivot_table(rcc_train_prod_cliente,index=['key_value'], columns=['diff_month'],\n",
    "                                            values=list(ft.keys()),aggfunc=ft,fill_value=0).reset_index()\n",
    "rcc_train_prod_cliente_agg.columns = ['cliente_'+x[0]+'_'+str(x[1])+'_'+str(x[2]) if x[0] not in ['key_value'] else x[0] for idx,x in enumerate(rcc_train_prod_cliente_agg.columns)]\n",
    "\n",
    "\n",
    "rcc_test_prod_cliente_agg = pd.pivot_table(rcc_test_prod_cliente,index=['key_value'], columns=['diff_month'],\n",
    "                                            values=list(ft.keys()),aggfunc=ft,fill_value=0).reset_index()\n",
    "aux = rcc_test_prod_cliente_agg.columns\n",
    "rcc_test_prod_cliente_agg.columns = ['cliente_'+x[0]+'_'+str(x[1])+'_'+str(x[2]) if x[0] not in ['key_value'] else x[0] for idx,x in enumerate(rcc_test_prod_cliente_agg.columns)]\n",
    "\n",
    "list_names = {}\n",
    "for i in aux:\n",
    "    if not i[0] in ['key_value']:\n",
    "        list_names['cliente_'+i[0]+'_'+i[1]]=None\n",
    "list_names = list_names.keys()\n"
   ]
  },
  {
   "cell_type": "code",
   "execution_count": 29,
   "metadata": {},
   "outputs": [],
   "source": [
    "rcc_train_prod_cliente_agg.to_hdf('../resources/mydata/rcc_train_cliente_agg.h5', 'results_table', mode='w',format='table')\n",
    "rcc_test_prod_cliente_agg.to_hdf('../resources/mydata/rcc_test_cliente_agg.h5', 'results_table', mode='w',format='table')"
   ]
  },
  {
   "cell_type": "code",
   "execution_count": null,
   "metadata": {},
   "outputs": [],
   "source": []
  },
  {
   "cell_type": "code",
   "execution_count": 30,
   "metadata": {},
   "outputs": [
    {
     "name": "stderr",
     "output_type": "stream",
     "text": [
      "100%|████████████████████████████████████████████████████████████████████████████████████| 9/9 [08:51<00:00, 59.09s/it]\n",
      "100%|████████████████████████████████████████████████████████████████████████████████████| 9/9 [09:47<00:00, 65.26s/it]\n"
     ]
    }
   ],
   "source": [
    "rangos = [[0,2],[0,3],[0,4],[0,5],[0,6],[0,7],[0,8],[0,9],[0,11]]\n",
    "\n",
    "rcc_train_prod_cliente_periods_agg = agg_periods(rcc_train_prod_cliente_agg, rangos, list_names)\n",
    "rcc_train_prod_cliente_periods_agg.columns = ['C_'+ x if x not in ['key_value'] else x for x in rcc_train_prod_cliente_periods_agg.columns]\n",
    "\n",
    "rangos = [[0,2],[0,3],[0,4],[0,5],[0,6],[0,7],[0,8],[0,9],[0,11]]\n",
    "\n",
    "rcc_test_prod_cliente_periods_agg = agg_periods(rcc_test_prod_cliente_agg, rangos, list_names)\n",
    "rcc_test_prod_cliente_periods_agg.columns = ['C_'+ x if x not in ['key_value'] else x for x in rcc_test_prod_cliente_periods_agg.columns]"
   ]
  },
  {
   "cell_type": "code",
   "execution_count": 31,
   "metadata": {},
   "outputs": [
    {
     "data": {
      "text/html": [
       "<div>\n",
       "<style scoped>\n",
       "    .dataframe tbody tr th:only-of-type {\n",
       "        vertical-align: middle;\n",
       "    }\n",
       "\n",
       "    .dataframe tbody tr th {\n",
       "        vertical-align: top;\n",
       "    }\n",
       "\n",
       "    .dataframe thead th {\n",
       "        text-align: right;\n",
       "    }\n",
       "</style>\n",
       "<table border=\"1\" class=\"dataframe\">\n",
       "  <thead>\n",
       "    <tr style=\"text-align: right;\">\n",
       "      <th></th>\n",
       "      <th>key_value</th>\n",
       "      <th>C_cliente_condicion_max_0</th>\n",
       "      <th>C_cliente_condicion_max_1</th>\n",
       "      <th>C_cliente_condicion_max_2</th>\n",
       "      <th>C_cliente_condicion_max_3</th>\n",
       "      <th>C_cliente_condicion_max_4</th>\n",
       "      <th>C_cliente_condicion_max_5</th>\n",
       "      <th>C_cliente_condicion_max_6</th>\n",
       "      <th>C_cliente_condicion_max_7</th>\n",
       "      <th>C_cliente_condicion_max_8</th>\n",
       "      <th>...</th>\n",
       "      <th>C_cliente_saldo_min0_11_STD</th>\n",
       "      <th>C_cliente_saldo_min0_11_SKEW</th>\n",
       "      <th>C_cliente_saldo_min0_11_KURT</th>\n",
       "      <th>C_cliente_saldo_sum0_11_Mean</th>\n",
       "      <th>C_cliente_saldo_sum0_11_Sum</th>\n",
       "      <th>C_cliente_saldo_sum0_11_Min</th>\n",
       "      <th>C_cliente_saldo_sum0_11_Max</th>\n",
       "      <th>C_cliente_saldo_sum0_11_STD</th>\n",
       "      <th>C_cliente_saldo_sum0_11_SKEW</th>\n",
       "      <th>C_cliente_saldo_sum0_11_KURT</th>\n",
       "    </tr>\n",
       "  </thead>\n",
       "  <tbody>\n",
       "    <tr>\n",
       "      <th>0</th>\n",
       "      <td>0</td>\n",
       "      <td>0</td>\n",
       "      <td>0</td>\n",
       "      <td>0</td>\n",
       "      <td>0</td>\n",
       "      <td>0</td>\n",
       "      <td>0</td>\n",
       "      <td>0</td>\n",
       "      <td>0</td>\n",
       "      <td>0</td>\n",
       "      <td>...</td>\n",
       "      <td>0.015578</td>\n",
       "      <td>1.324423</td>\n",
       "      <td>-0.328412</td>\n",
       "      <td>-0.170977</td>\n",
       "      <td>-2.051727</td>\n",
       "      <td>-0.294800</td>\n",
       "      <td>-0.005493</td>\n",
       "      <td>0.125654</td>\n",
       "      <td>0.242597</td>\n",
       "      <td>-1.944242</td>\n",
       "    </tr>\n",
       "    <tr>\n",
       "      <th>1</th>\n",
       "      <td>1</td>\n",
       "      <td>0</td>\n",
       "      <td>0</td>\n",
       "      <td>0</td>\n",
       "      <td>0</td>\n",
       "      <td>0</td>\n",
       "      <td>0</td>\n",
       "      <td>0</td>\n",
       "      <td>0</td>\n",
       "      <td>0</td>\n",
       "      <td>...</td>\n",
       "      <td>0.032904</td>\n",
       "      <td>-1.326657</td>\n",
       "      <td>-0.325886</td>\n",
       "      <td>-0.045016</td>\n",
       "      <td>-0.540192</td>\n",
       "      <td>-0.270599</td>\n",
       "      <td>0.000000</td>\n",
       "      <td>0.088033</td>\n",
       "      <td>-1.935775</td>\n",
       "      <td>3.198898</td>\n",
       "    </tr>\n",
       "    <tr>\n",
       "      <th>2</th>\n",
       "      <td>2</td>\n",
       "      <td>0</td>\n",
       "      <td>0</td>\n",
       "      <td>0</td>\n",
       "      <td>0</td>\n",
       "      <td>0</td>\n",
       "      <td>0</td>\n",
       "      <td>0</td>\n",
       "      <td>0</td>\n",
       "      <td>0</td>\n",
       "      <td>...</td>\n",
       "      <td>0.028367</td>\n",
       "      <td>-2.055237</td>\n",
       "      <td>2.640000</td>\n",
       "      <td>-0.030257</td>\n",
       "      <td>-0.363083</td>\n",
       "      <td>-0.212708</td>\n",
       "      <td>0.000000</td>\n",
       "      <td>0.071904</td>\n",
       "      <td>-2.209565</td>\n",
       "      <td>3.775615</td>\n",
       "    </tr>\n",
       "    <tr>\n",
       "      <th>3</th>\n",
       "      <td>3</td>\n",
       "      <td>0</td>\n",
       "      <td>0</td>\n",
       "      <td>0</td>\n",
       "      <td>0</td>\n",
       "      <td>0</td>\n",
       "      <td>0</td>\n",
       "      <td>0</td>\n",
       "      <td>0</td>\n",
       "      <td>0</td>\n",
       "      <td>...</td>\n",
       "      <td>0.028025</td>\n",
       "      <td>-2.055964</td>\n",
       "      <td>2.645394</td>\n",
       "      <td>0.016154</td>\n",
       "      <td>0.193848</td>\n",
       "      <td>0.000000</td>\n",
       "      <td>0.117371</td>\n",
       "      <td>0.038722</td>\n",
       "      <td>2.281636</td>\n",
       "      <td>4.299037</td>\n",
       "    </tr>\n",
       "    <tr>\n",
       "      <th>4</th>\n",
       "      <td>4</td>\n",
       "      <td>80</td>\n",
       "      <td>52</td>\n",
       "      <td>21</td>\n",
       "      <td>0</td>\n",
       "      <td>0</td>\n",
       "      <td>0</td>\n",
       "      <td>0</td>\n",
       "      <td>0</td>\n",
       "      <td>0</td>\n",
       "      <td>...</td>\n",
       "      <td>0.035112</td>\n",
       "      <td>0.805413</td>\n",
       "      <td>-1.650237</td>\n",
       "      <td>-0.301638</td>\n",
       "      <td>-3.619659</td>\n",
       "      <td>-0.770233</td>\n",
       "      <td>0.000000</td>\n",
       "      <td>0.303180</td>\n",
       "      <td>-0.478538</td>\n",
       "      <td>-1.588568</td>\n",
       "    </tr>\n",
       "  </tbody>\n",
       "</table>\n",
       "<p>5 rows × 1081 columns</p>\n",
       "</div>"
      ],
      "text/plain": [
       "   key_value  C_cliente_condicion_max_0  C_cliente_condicion_max_1  \\\n",
       "0          0                          0                          0   \n",
       "1          1                          0                          0   \n",
       "2          2                          0                          0   \n",
       "3          3                          0                          0   \n",
       "4          4                         80                         52   \n",
       "\n",
       "   C_cliente_condicion_max_2  C_cliente_condicion_max_3  \\\n",
       "0                          0                          0   \n",
       "1                          0                          0   \n",
       "2                          0                          0   \n",
       "3                          0                          0   \n",
       "4                         21                          0   \n",
       "\n",
       "   C_cliente_condicion_max_4  C_cliente_condicion_max_5  \\\n",
       "0                          0                          0   \n",
       "1                          0                          0   \n",
       "2                          0                          0   \n",
       "3                          0                          0   \n",
       "4                          0                          0   \n",
       "\n",
       "   C_cliente_condicion_max_6  C_cliente_condicion_max_7  \\\n",
       "0                          0                          0   \n",
       "1                          0                          0   \n",
       "2                          0                          0   \n",
       "3                          0                          0   \n",
       "4                          0                          0   \n",
       "\n",
       "   C_cliente_condicion_max_8  ...  C_cliente_saldo_min0_11_STD  \\\n",
       "0                          0  ...                     0.015578   \n",
       "1                          0  ...                     0.032904   \n",
       "2                          0  ...                     0.028367   \n",
       "3                          0  ...                     0.028025   \n",
       "4                          0  ...                     0.035112   \n",
       "\n",
       "   C_cliente_saldo_min0_11_SKEW  C_cliente_saldo_min0_11_KURT  \\\n",
       "0                      1.324423                     -0.328412   \n",
       "1                     -1.326657                     -0.325886   \n",
       "2                     -2.055237                      2.640000   \n",
       "3                     -2.055964                      2.645394   \n",
       "4                      0.805413                     -1.650237   \n",
       "\n",
       "   C_cliente_saldo_sum0_11_Mean  C_cliente_saldo_sum0_11_Sum  \\\n",
       "0                     -0.170977                    -2.051727   \n",
       "1                     -0.045016                    -0.540192   \n",
       "2                     -0.030257                    -0.363083   \n",
       "3                      0.016154                     0.193848   \n",
       "4                     -0.301638                    -3.619659   \n",
       "\n",
       "   C_cliente_saldo_sum0_11_Min  C_cliente_saldo_sum0_11_Max  \\\n",
       "0                    -0.294800                    -0.005493   \n",
       "1                    -0.270599                     0.000000   \n",
       "2                    -0.212708                     0.000000   \n",
       "3                     0.000000                     0.117371   \n",
       "4                    -0.770233                     0.000000   \n",
       "\n",
       "   C_cliente_saldo_sum0_11_STD  C_cliente_saldo_sum0_11_SKEW  \\\n",
       "0                     0.125654                      0.242597   \n",
       "1                     0.088033                     -1.935775   \n",
       "2                     0.071904                     -2.209565   \n",
       "3                     0.038722                      2.281636   \n",
       "4                     0.303180                     -0.478538   \n",
       "\n",
       "   C_cliente_saldo_sum0_11_KURT  \n",
       "0                     -1.944242  \n",
       "1                      3.198898  \n",
       "2                      3.775615  \n",
       "3                      4.299037  \n",
       "4                     -1.588568  \n",
       "\n",
       "[5 rows x 1081 columns]"
      ]
     },
     "execution_count": 31,
     "metadata": {},
     "output_type": "execute_result"
    }
   ],
   "source": [
    "rcc_train_prod_cliente_periods_agg.head()"
   ]
  },
  {
   "cell_type": "code",
   "execution_count": 32,
   "metadata": {},
   "outputs": [
    {
     "name": "stderr",
     "output_type": "stream",
     "text": [
      "C:\\Users\\crist\\.conda\\envs\\kaggle38\\lib\\site-packages\\tables\\leaf.py:353: RuntimeWarning: overflow encountered in long_scalars\n",
      "  expected_mb = (expectedrows * rowsize) // MB\n"
     ]
    }
   ],
   "source": [
    "rcc_train_prod_cliente_periods_agg.to_hdf('../resources/mydata/rcc_train_cliente_periods_agg.h5', 'results_table', mode='w',format='table')\n",
    "\n",
    "rcc_test_prod_cliente_periods_agg.to_hdf('../resources/mydata/rcc_test_cliente_periods_agg.h5', 'results_table', mode='w',format='table')"
   ]
  },
  {
   "cell_type": "code",
   "execution_count": null,
   "metadata": {},
   "outputs": [],
   "source": []
  },
  {
   "cell_type": "code",
   "execution_count": 33,
   "metadata": {},
   "outputs": [
    {
     "data": {
      "text/plain": [
       "128"
      ]
     },
     "execution_count": 33,
     "metadata": {},
     "output_type": "execute_result"
    }
   ],
   "source": [
    "del rcc_train_prod_cliente_periods_agg\n",
    "del rcc_test_prod_cliente_periods_agg\n",
    "gc.collect()"
   ]
  },
  {
   "cell_type": "code",
   "execution_count": 34,
   "metadata": {},
   "outputs": [],
   "source": [
    "ft={}\n",
    "mode_agg = lambda x: x.mode().iloc[0]\n",
    "\n",
    "mode_agg = lambda x: mode(x)[0][0]\n",
    "\n",
    "lt = ['condicion','saldo','log_saldo']\n",
    "for x in lt:\n",
    "    ft[x]=['max','min','mean','sum']    "
   ]
  },
  {
   "cell_type": "code",
   "execution_count": 35,
   "metadata": {},
   "outputs": [
    {
     "data": {
      "text/plain": [
       "Index(['codmes', 'key_value', 'condicion', 'tipo_credito',\n",
       "       'cod_instit_financiera', 'saldo', 'PRODUCTO', 'RIESGO_DIRECTO',\n",
       "       'COD_CLASIFICACION_DEUDOR', 'in_range_default', 'condicion_id',\n",
       "       'PRODUCTO_id', 'PRODUCTO_id_notexist', 'RIESGO_DIRECTO_id', 'log_saldo',\n",
       "       'neg_saldo', 'saldo_1', 'description', 'producto_class',\n",
       "       'producto_credito', 'edad', 'sexo', 'est_cvl', 'sit_lab', 'cod_ocu',\n",
       "       'ctd_hijos', 'flg_sin_email', 'ctd_veh', 'cod_ubi', 'lgr_vot', 'prv',\n",
       "       'dto', 'rgn', 'tip_lvledu', 'diff_month'],\n",
       "      dtype='object')"
      ]
     },
     "execution_count": 35,
     "metadata": {},
     "output_type": "execute_result"
    }
   ],
   "source": [
    "rcc_train_prod_cliente.columns"
   ]
  },
  {
   "cell_type": "code",
   "execution_count": 36,
   "metadata": {},
   "outputs": [
    {
     "data": {
      "text/plain": [
       "array([  6.,   7.,   5.,   8.,   0.,   2.,   3.,   1., 255.,   9.,  10.,\n",
       "         4.,  11.,  13.,  14.,  15.,  16.,  12.,  18.,  17.,  19.,  20.,\n",
       "        21.,  22.,  29.,  30.,  25.,  31.,  28.,  23.,  24.,  32.,  27.,\n",
       "        34.,  39.,  38.,  36.,  33.,  37.,  35.,  40.,  41.],\n",
       "      dtype=float32)"
      ]
     },
     "execution_count": 36,
     "metadata": {},
     "output_type": "execute_result"
    }
   ],
   "source": [
    "rcc_train_prod_cliente.PRODUCTO.unique()"
   ]
  },
  {
   "cell_type": "code",
   "execution_count": 37,
   "metadata": {},
   "outputs": [
    {
     "data": {
      "text/plain": [
       "80"
      ]
     },
     "execution_count": 37,
     "metadata": {},
     "output_type": "execute_result"
    }
   ],
   "source": [
    "del rcc_train_prod_cliente_agg\n",
    "del rcc_test_prod_cliente_agg\n",
    "gc.collect()"
   ]
  },
  {
   "cell_type": "code",
   "execution_count": 38,
   "metadata": {},
   "outputs": [],
   "source": [
    "rcc_train_prod_cliente_agg = pd.pivot_table(rcc_train_prod_cliente,index=['key_value','PRODUCTO'], columns=['diff_month'],\n",
    "                                            values=list(ft.keys()),aggfunc=ft,fill_value=0).reset_index()\n",
    "rcc_train_prod_cliente_agg.columns = ['Prod_Cliente_'+x[0]+'_'+str(x[1])+'_'+str(x[2]) if x[0] not in ['key_value','PRODUCTO'] else x[0] for idx,x in enumerate(rcc_train_prod_cliente_agg.columns)]\n",
    "\n",
    "\n",
    "rcc_test_prod_cliente_agg = pd.pivot_table(rcc_test_prod_cliente,index=['key_value','PRODUCTO'], columns=['diff_month'],\n",
    "                                            values=list(ft.keys()),aggfunc=ft,fill_value=0).reset_index()\n",
    "aux = rcc_test_prod_cliente_agg.columns\n",
    "rcc_test_prod_cliente_agg.columns = ['Prod_Cliente_'+x[0]+'_'+str(x[1])+'_'+str(x[2]) if x[0] not in ['key_value','PRODUCTO'] else x[0] for idx,x in enumerate(rcc_test_prod_cliente_agg.columns)]\n",
    "\n",
    "list_names = {}\n",
    "for i in aux:\n",
    "    if not i[0] in ['key_value','PRODUCTO']:\n",
    "        list_names['Prod_Cliente_'+i[0]+'_'+i[1]]=None\n",
    "list_names = list_names.keys()"
   ]
  },
  {
   "cell_type": "code",
   "execution_count": 39,
   "metadata": {},
   "outputs": [],
   "source": [
    "rcc_train_prod_cliente_agg.to_hdf('../resources/mydata/rcc_train_PROD_cliente_agg.h5', 'results_table', mode='w',format='table')\n",
    "rcc_test_prod_cliente_agg.to_hdf('../resources/mydata/rcc_test_PROD_cliente_agg.h5', 'results_table', mode='w',format='table')"
   ]
  },
  {
   "cell_type": "raw",
   "metadata": {},
   "source": [
    "rcc_train_prod_cliente_agg = pd.read_hdf('../resources/mydata/rcc_train_prod_cliente_agg.h5', 'results_table')\n",
    "rcc_test_prod_cliente_agg = pd.read_hdf('../resources/mydata/rcc_test_prod_cliente_agg.h5', 'results_table')\n"
   ]
  },
  {
   "cell_type": "code",
   "execution_count": null,
   "metadata": {},
   "outputs": [],
   "source": []
  },
  {
   "cell_type": "code",
   "execution_count": null,
   "metadata": {},
   "outputs": [],
   "source": []
  },
  {
   "cell_type": "code",
   "execution_count": 40,
   "metadata": {},
   "outputs": [
    {
     "name": "stderr",
     "output_type": "stream",
     "text": [
      "100%|███████████████████████████████████████████████████████████████████████████████████| 3/3 [07:42<00:00, 154.30s/it]\n",
      "100%|███████████████████████████████████████████████████████████████████████████████████| 3/3 [07:57<00:00, 159.09s/it]\n"
     ]
    }
   ],
   "source": [
    "rangos = [[0,2],[0,5],[0,8]]\n",
    "\n",
    "rcc_train_prod_cliente_periods_agg = agg_periods(rcc_train_prod_cliente_agg, rangos, list_names)\n",
    "rcc_train_prod_cliente_periods_agg.columns = ['C_'+ x if x not in ['key_value','PRODUCTO'] else x for x in rcc_train_prod_cliente_periods_agg.columns]\n",
    "\n",
    "rangos = [[0,2],[0,5],[0,8]]\n",
    "\n",
    "rcc_test_prod_cliente_periods_agg = agg_periods(rcc_test_prod_cliente_agg, rangos, list_names)\n",
    "rcc_test_prod_cliente_periods_agg.columns = ['C_'+ x if x not in ['key_value','PRODUCTO'] else x for x in rcc_test_prod_cliente_periods_agg.columns]"
   ]
  },
  {
   "cell_type": "code",
   "execution_count": 41,
   "metadata": {},
   "outputs": [
    {
     "name": "stderr",
     "output_type": "stream",
     "text": [
      "C:\\Users\\crist\\.conda\\envs\\kaggle38\\lib\\site-packages\\tables\\leaf.py:353: RuntimeWarning: overflow encountered in long_scalars\n",
      "  expected_mb = (expectedrows * rowsize) // MB\n"
     ]
    }
   ],
   "source": [
    "rcc_train_prod_cliente_periods_agg.to_hdf('../resources/mydata/rcc_train_PROD_cliente_periods_agg.h5', 'results_table', mode='w',format='table')\n",
    "\n",
    "rcc_test_prod_cliente_periods_agg.to_hdf('../resources/mydata/rcc_test_PROD_cliente_periods_agg.h5', 'results_table', mode='w',format='table')"
   ]
  },
  {
   "cell_type": "code",
   "execution_count": 42,
   "metadata": {},
   "outputs": [
    {
     "data": {
      "text/plain": [
       "89"
      ]
     },
     "execution_count": 42,
     "metadata": {},
     "output_type": "execute_result"
    }
   ],
   "source": [
    "del rcc_train_prod_cliente_agg\n",
    "del rcc_test_prod_cliente_agg\n",
    "gc.collect()"
   ]
  },
  {
   "cell_type": "code",
   "execution_count": 43,
   "metadata": {},
   "outputs": [
    {
     "data": {
      "text/plain": [
       "20"
      ]
     },
     "execution_count": 43,
     "metadata": {},
     "output_type": "execute_result"
    }
   ],
   "source": [
    "del rcc_train_prod_cliente_periods_agg\n",
    "del rcc_test_prod_cliente_periods_agg\n",
    "gc.collect()"
   ]
  },
  {
   "cell_type": "code",
   "execution_count": 44,
   "metadata": {},
   "outputs": [],
   "source": [
    "rcc_train_prod_cliente_agg = pd.pivot_table(rcc_train_prod_cliente,index=['PRODUCTO'], columns=['diff_month'],\n",
    "                                            values=list(ft.keys()),aggfunc=ft,fill_value=0).reset_index()\n",
    "rcc_train_prod_cliente_agg.columns = ['Prod_Cliente_'+x[0]+'_'+str(x[1])+'_'+str(x[2]) if x[0] not in ['PRODUCTO'] else x[0] for idx,x in enumerate(rcc_train_prod_cliente_agg.columns)]\n",
    "\n",
    "\n",
    "rcc_test_prod_cliente_agg = pd.pivot_table(rcc_test_prod_cliente,index=['PRODUCTO'], columns=['diff_month'],\n",
    "                                            values=list(ft.keys()),aggfunc=ft,fill_value=0).reset_index()\n",
    "aux = rcc_test_prod_cliente_agg.columns\n",
    "rcc_test_prod_cliente_agg.columns = ['Prod_Cliente_'+x[0]+'_'+str(x[1])+'_'+str(x[2]) if x[0] not in ['PRODUCTO'] else x[0] for idx,x in enumerate(rcc_test_prod_cliente_agg.columns)]\n",
    "\n",
    "list_names = {}\n",
    "for i in aux:\n",
    "    if not i[0] in ['key_value','PRODUCTO']:\n",
    "        list_names['Prod_Cliente_'+i[0]+'_'+i[1]]=None\n",
    "list_names = list_names.keys()"
   ]
  },
  {
   "cell_type": "code",
   "execution_count": 45,
   "metadata": {},
   "outputs": [],
   "source": [
    "rcc_train_prod_cliente_agg.to_hdf('../resources/mydata/rcc_train_PROD_agg.h5', 'results_table', mode='w',format='table')\n",
    "rcc_test_prod_cliente_agg.to_hdf('../resources/mydata/rcc_test_PROD_agg.h5', 'results_table', mode='w',format='table')"
   ]
  },
  {
   "cell_type": "code",
   "execution_count": 46,
   "metadata": {},
   "outputs": [
    {
     "name": "stderr",
     "output_type": "stream",
     "text": [
      "100%|████████████████████████████████████████████████████████████████████████████████████| 9/9 [00:01<00:00,  6.91it/s]\n",
      "100%|████████████████████████████████████████████████████████████████████████████████████| 9/9 [00:01<00:00,  7.39it/s]\n"
     ]
    }
   ],
   "source": [
    "rangos = [[0,2],[0,3],[0,4],[0,5],[0,6],[0,7],[0,8],[0,9],[0,11]]\n",
    "\n",
    "rcc_train_prod_cliente_periods_agg = agg_periods(rcc_train_prod_cliente_agg, rangos, list_names)\n",
    "rcc_train_prod_cliente_periods_agg.columns = ['C_'+ x if x not in ['PRODUCTO'] else x for x in rcc_train_prod_cliente_periods_agg.columns]\n",
    "\n",
    "rangos = [[0,2],[0,3],[0,4],[0,5],[0,6],[0,7],[0,8],[0,9],[0,11]]\n",
    "\n",
    "rcc_test_prod_cliente_periods_agg = agg_periods(rcc_test_prod_cliente_agg, rangos, list_names)\n",
    "rcc_test_prod_cliente_periods_agg.columns = ['C_'+ x if x not in ['PRODUCTO'] else x for x in rcc_test_prod_cliente_periods_agg.columns]"
   ]
  },
  {
   "cell_type": "code",
   "execution_count": 47,
   "metadata": {},
   "outputs": [],
   "source": [
    "rcc_train_prod_cliente_periods_agg.to_hdf('../resources/mydata/rcc_train_PROD_periods_agg.h5', 'results_table', mode='w',format='table')\n",
    "\n",
    "rcc_test_prod_cliente_periods_agg.to_hdf('../resources/mydata/rcc_test_PROD_periods_agg.h5', 'results_table', mode='w',format='table')"
   ]
  },
  {
   "cell_type": "code",
   "execution_count": null,
   "metadata": {},
   "outputs": [],
   "source": []
  },
  {
   "cell_type": "code",
   "execution_count": null,
   "metadata": {},
   "outputs": [],
   "source": []
  },
  {
   "cell_type": "code",
   "execution_count": null,
   "metadata": {},
   "outputs": [],
   "source": []
  },
  {
   "cell_type": "code",
   "execution_count": null,
   "metadata": {},
   "outputs": [],
   "source": []
  },
  {
   "cell_type": "code",
   "execution_count": null,
   "metadata": {},
   "outputs": [],
   "source": []
  },
  {
   "cell_type": "code",
   "execution_count": null,
   "metadata": {},
   "outputs": [],
   "source": []
  },
  {
   "cell_type": "code",
   "execution_count": null,
   "metadata": {},
   "outputs": [],
   "source": []
  },
  {
   "cell_type": "code",
   "execution_count": null,
   "metadata": {},
   "outputs": [],
   "source": []
  },
  {
   "cell_type": "code",
   "execution_count": null,
   "metadata": {},
   "outputs": [],
   "source": []
  }
 ],
 "metadata": {
  "kernelspec": {
   "display_name": "Python 3",
   "language": "python",
   "name": "python3"
  },
  "language_info": {
   "codemirror_mode": {
    "name": "ipython",
    "version": 3
   },
   "file_extension": ".py",
   "mimetype": "text/x-python",
   "name": "python",
   "nbconvert_exporter": "python",
   "pygments_lexer": "ipython3",
   "version": "3.8.5"
  }
 },
 "nbformat": 4,
 "nbformat_minor": 4
}
